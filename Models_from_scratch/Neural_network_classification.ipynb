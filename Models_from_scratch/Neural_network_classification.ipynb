{
 "cells": [
  {
   "cell_type": "code",
   "execution_count": 1,
   "metadata": {},
   "outputs": [],
   "source": [
    "import numpy as np\n",
    "import pandas as pd\n",
    "import matplotlib.pyplot as plt"
   ]
  },
  {
   "cell_type": "code",
   "execution_count": 2,
   "metadata": {},
   "outputs": [],
   "source": [
    "data = np.load('Desktop\\galaxy_catalogue.npy')"
   ]
  },
  {
   "cell_type": "code",
   "execution_count": 3,
   "metadata": {},
   "outputs": [],
   "source": [
    "dataset = pd.DataFrame(data)\n"
   ]
  },
  {
   "cell_type": "code",
   "execution_count": 4,
   "metadata": {},
   "outputs": [
    {
     "data": {
      "text/html": [
       "<div>\n",
       "<style scoped>\n",
       "    .dataframe tbody tr th:only-of-type {\n",
       "        vertical-align: middle;\n",
       "    }\n",
       "\n",
       "    .dataframe tbody tr th {\n",
       "        vertical-align: top;\n",
       "    }\n",
       "\n",
       "    .dataframe thead th {\n",
       "        text-align: right;\n",
       "    }\n",
       "</style>\n",
       "<table border=\"1\" class=\"dataframe\">\n",
       "  <thead>\n",
       "    <tr style=\"text-align: right;\">\n",
       "      <th></th>\n",
       "      <th>u-g</th>\n",
       "      <th>g-r</th>\n",
       "      <th>r-i</th>\n",
       "      <th>i-z</th>\n",
       "      <th>ecc</th>\n",
       "      <th>m4_u</th>\n",
       "      <th>m4_g</th>\n",
       "      <th>m4_r</th>\n",
       "      <th>m4_i</th>\n",
       "      <th>m4_z</th>\n",
       "      <th>petroR50_u</th>\n",
       "      <th>petroR50_r</th>\n",
       "      <th>petroR50_z</th>\n",
       "      <th>petroR90_u</th>\n",
       "      <th>petroR90_r</th>\n",
       "      <th>petroR90_z</th>\n",
       "      <th>class</th>\n",
       "    </tr>\n",
       "  </thead>\n",
       "  <tbody>\n",
       "    <tr>\n",
       "      <th>0</th>\n",
       "      <td>1.85765</td>\n",
       "      <td>0.67158</td>\n",
       "      <td>0.42310</td>\n",
       "      <td>0.30610</td>\n",
       "      <td>0.585428</td>\n",
       "      <td>2.251946</td>\n",
       "      <td>2.339849</td>\n",
       "      <td>2.380652</td>\n",
       "      <td>2.359738</td>\n",
       "      <td>2.395528</td>\n",
       "      <td>3.095123</td>\n",
       "      <td>3.818919</td>\n",
       "      <td>3.826230</td>\n",
       "      <td>5.174814</td>\n",
       "      <td>8.263009</td>\n",
       "      <td>11.477340</td>\n",
       "      <td>merger</td>\n",
       "    </tr>\n",
       "    <tr>\n",
       "      <th>1</th>\n",
       "      <td>1.74259</td>\n",
       "      <td>0.86085</td>\n",
       "      <td>0.44927</td>\n",
       "      <td>0.28851</td>\n",
       "      <td>0.749812</td>\n",
       "      <td>2.031566</td>\n",
       "      <td>2.084156</td>\n",
       "      <td>2.092272</td>\n",
       "      <td>2.124075</td>\n",
       "      <td>2.133154</td>\n",
       "      <td>1.430436</td>\n",
       "      <td>1.422533</td>\n",
       "      <td>1.385727</td>\n",
       "      <td>3.732712</td>\n",
       "      <td>3.416921</td>\n",
       "      <td>3.330347</td>\n",
       "      <td>merger</td>\n",
       "    </tr>\n",
       "    <tr>\n",
       "      <th>2</th>\n",
       "      <td>2.10697</td>\n",
       "      <td>0.96710</td>\n",
       "      <td>0.56810</td>\n",
       "      <td>0.33747</td>\n",
       "      <td>0.630089</td>\n",
       "      <td>1.992887</td>\n",
       "      <td>2.450746</td>\n",
       "      <td>2.473116</td>\n",
       "      <td>2.465324</td>\n",
       "      <td>2.438683</td>\n",
       "      <td>3.099957</td>\n",
       "      <td>3.623704</td>\n",
       "      <td>3.463300</td>\n",
       "      <td>9.110857</td>\n",
       "      <td>8.354343</td>\n",
       "      <td>11.265390</td>\n",
       "      <td>merger</td>\n",
       "    </tr>\n",
       "    <tr>\n",
       "      <th>3</th>\n",
       "      <td>1.22840</td>\n",
       "      <td>0.60446</td>\n",
       "      <td>0.39049</td>\n",
       "      <td>0.28913</td>\n",
       "      <td>0.668999</td>\n",
       "      <td>2.056115</td>\n",
       "      <td>2.182252</td>\n",
       "      <td>2.309510</td>\n",
       "      <td>2.391414</td>\n",
       "      <td>2.472397</td>\n",
       "      <td>3.627267</td>\n",
       "      <td>4.063471</td>\n",
       "      <td>3.717708</td>\n",
       "      <td>9.580675</td>\n",
       "      <td>12.202420</td>\n",
       "      <td>11.826220</td>\n",
       "      <td>merger</td>\n",
       "    </tr>\n",
       "    <tr>\n",
       "      <th>4</th>\n",
       "      <td>1.80792</td>\n",
       "      <td>0.78124</td>\n",
       "      <td>0.45528</td>\n",
       "      <td>0.35067</td>\n",
       "      <td>0.500170</td>\n",
       "      <td>2.259167</td>\n",
       "      <td>2.194723</td>\n",
       "      <td>2.264567</td>\n",
       "      <td>2.334713</td>\n",
       "      <td>2.352568</td>\n",
       "      <td>3.256751</td>\n",
       "      <td>3.153533</td>\n",
       "      <td>2.254511</td>\n",
       "      <td>9.206746</td>\n",
       "      <td>9.790146</td>\n",
       "      <td>6.636931</td>\n",
       "      <td>merger</td>\n",
       "    </tr>\n",
       "  </tbody>\n",
       "</table>\n",
       "</div>"
      ],
      "text/plain": [
       "       u-g      g-r      r-i      i-z       ecc      m4_u      m4_g      m4_r  \\\n",
       "0  1.85765  0.67158  0.42310  0.30610  0.585428  2.251946  2.339849  2.380652   \n",
       "1  1.74259  0.86085  0.44927  0.28851  0.749812  2.031566  2.084156  2.092272   \n",
       "2  2.10697  0.96710  0.56810  0.33747  0.630089  1.992887  2.450746  2.473116   \n",
       "3  1.22840  0.60446  0.39049  0.28913  0.668999  2.056115  2.182252  2.309510   \n",
       "4  1.80792  0.78124  0.45528  0.35067  0.500170  2.259167  2.194723  2.264567   \n",
       "\n",
       "       m4_i      m4_z  petroR50_u  petroR50_r  petroR50_z  petroR90_u  \\\n",
       "0  2.359738  2.395528    3.095123    3.818919    3.826230    5.174814   \n",
       "1  2.124075  2.133154    1.430436    1.422533    1.385727    3.732712   \n",
       "2  2.465324  2.438683    3.099957    3.623704    3.463300    9.110857   \n",
       "3  2.391414  2.472397    3.627267    4.063471    3.717708    9.580675   \n",
       "4  2.334713  2.352568    3.256751    3.153533    2.254511    9.206746   \n",
       "\n",
       "   petroR90_r  petroR90_z   class  \n",
       "0    8.263009   11.477340  merger  \n",
       "1    3.416921    3.330347  merger  \n",
       "2    8.354343   11.265390  merger  \n",
       "3   12.202420   11.826220  merger  \n",
       "4    9.790146    6.636931  merger  "
      ]
     },
     "execution_count": 4,
     "metadata": {},
     "output_type": "execute_result"
    }
   ],
   "source": [
    "dataset.head()"
   ]
  },
  {
   "cell_type": "code",
   "execution_count": 5,
   "metadata": {},
   "outputs": [
    {
     "data": {
      "text/plain": [
       "(780, 17)"
      ]
     },
     "execution_count": 5,
     "metadata": {},
     "output_type": "execute_result"
    }
   ],
   "source": [
    "dataset.shape"
   ]
  },
  {
   "cell_type": "code",
   "execution_count": 6,
   "metadata": {},
   "outputs": [
    {
     "data": {
      "text/html": [
       "<div>\n",
       "<style scoped>\n",
       "    .dataframe tbody tr th:only-of-type {\n",
       "        vertical-align: middle;\n",
       "    }\n",
       "\n",
       "    .dataframe tbody tr th {\n",
       "        vertical-align: top;\n",
       "    }\n",
       "\n",
       "    .dataframe thead th {\n",
       "        text-align: right;\n",
       "    }\n",
       "</style>\n",
       "<table border=\"1\" class=\"dataframe\">\n",
       "  <thead>\n",
       "    <tr style=\"text-align: right;\">\n",
       "      <th></th>\n",
       "      <th>u-g</th>\n",
       "      <th>g-r</th>\n",
       "      <th>r-i</th>\n",
       "      <th>i-z</th>\n",
       "      <th>ecc</th>\n",
       "      <th>m4_u</th>\n",
       "      <th>m4_g</th>\n",
       "      <th>m4_r</th>\n",
       "      <th>m4_i</th>\n",
       "      <th>m4_z</th>\n",
       "      <th>petroR50_u</th>\n",
       "      <th>petroR50_r</th>\n",
       "      <th>petroR50_z</th>\n",
       "      <th>petroR90_u</th>\n",
       "      <th>petroR90_r</th>\n",
       "      <th>petroR90_z</th>\n",
       "    </tr>\n",
       "  </thead>\n",
       "  <tbody>\n",
       "    <tr>\n",
       "      <th>count</th>\n",
       "      <td>780.000000</td>\n",
       "      <td>780.000000</td>\n",
       "      <td>780.000000</td>\n",
       "      <td>780.000000</td>\n",
       "      <td>780.000000</td>\n",
       "      <td>780.000000</td>\n",
       "      <td>780.000000</td>\n",
       "      <td>780.000000</td>\n",
       "      <td>780.000000</td>\n",
       "      <td>780.000000</td>\n",
       "      <td>780.000000</td>\n",
       "      <td>780.000000</td>\n",
       "      <td>780.000000</td>\n",
       "      <td>780.000000</td>\n",
       "      <td>780.000000</td>\n",
       "      <td>780.000000</td>\n",
       "    </tr>\n",
       "    <tr>\n",
       "      <th>mean</th>\n",
       "      <td>1.633556</td>\n",
       "      <td>0.751285</td>\n",
       "      <td>0.390027</td>\n",
       "      <td>0.256630</td>\n",
       "      <td>0.713827</td>\n",
       "      <td>-36.228336</td>\n",
       "      <td>-10.499354</td>\n",
       "      <td>-23.280043</td>\n",
       "      <td>-36.084795</td>\n",
       "      <td>-48.904677</td>\n",
       "      <td>-46.026529</td>\n",
       "      <td>4.897747</td>\n",
       "      <td>-34.147368</td>\n",
       "      <td>-38.642822</td>\n",
       "      <td>12.625589</td>\n",
       "      <td>-27.091879</td>\n",
       "    </tr>\n",
       "    <tr>\n",
       "      <th>std</th>\n",
       "      <td>0.680241</td>\n",
       "      <td>0.333986</td>\n",
       "      <td>0.094902</td>\n",
       "      <td>0.434369</td>\n",
       "      <td>0.171010</td>\n",
       "      <td>619.454396</td>\n",
       "      <td>358.104842</td>\n",
       "      <td>506.113635</td>\n",
       "      <td>619.462662</td>\n",
       "      <td>714.833597</td>\n",
       "      <td>715.052758</td>\n",
       "      <td>5.647410</td>\n",
       "      <td>619.598004</td>\n",
       "      <td>715.634265</td>\n",
       "      <td>9.482342</td>\n",
       "      <td>620.075967</td>\n",
       "    </tr>\n",
       "    <tr>\n",
       "      <th>min</th>\n",
       "      <td>-8.202350</td>\n",
       "      <td>-4.708600</td>\n",
       "      <td>-0.630590</td>\n",
       "      <td>-7.698340</td>\n",
       "      <td>0.226894</td>\n",
       "      <td>-9999.000000</td>\n",
       "      <td>-9999.000000</td>\n",
       "      <td>-9999.000000</td>\n",
       "      <td>-9999.000000</td>\n",
       "      <td>-9999.000000</td>\n",
       "      <td>-9999.000000</td>\n",
       "      <td>0.617535</td>\n",
       "      <td>-9999.000000</td>\n",
       "      <td>-9999.000000</td>\n",
       "      <td>1.031904</td>\n",
       "      <td>-9999.000000</td>\n",
       "    </tr>\n",
       "    <tr>\n",
       "      <th>25%</th>\n",
       "      <td>1.333080</td>\n",
       "      <td>0.620432</td>\n",
       "      <td>0.353687</td>\n",
       "      <td>0.227997</td>\n",
       "      <td>0.592427</td>\n",
       "      <td>2.124926</td>\n",
       "      <td>2.238136</td>\n",
       "      <td>2.303345</td>\n",
       "      <td>2.327275</td>\n",
       "      <td>2.329166</td>\n",
       "      <td>2.896251</td>\n",
       "      <td>2.884019</td>\n",
       "      <td>2.553682</td>\n",
       "      <td>7.056056</td>\n",
       "      <td>8.101448</td>\n",
       "      <td>7.145191</td>\n",
       "    </tr>\n",
       "    <tr>\n",
       "      <th>50%</th>\n",
       "      <td>1.701755</td>\n",
       "      <td>0.789610</td>\n",
       "      <td>0.400985</td>\n",
       "      <td>0.294780</td>\n",
       "      <td>0.744386</td>\n",
       "      <td>2.269386</td>\n",
       "      <td>2.351759</td>\n",
       "      <td>2.380019</td>\n",
       "      <td>2.394285</td>\n",
       "      <td>2.390121</td>\n",
       "      <td>4.391504</td>\n",
       "      <td>3.929862</td>\n",
       "      <td>3.449929</td>\n",
       "      <td>10.743275</td>\n",
       "      <td>10.509180</td>\n",
       "      <td>9.423079</td>\n",
       "    </tr>\n",
       "    <tr>\n",
       "      <th>75%</th>\n",
       "      <td>1.914082</td>\n",
       "      <td>0.905282</td>\n",
       "      <td>0.430363</td>\n",
       "      <td>0.326920</td>\n",
       "      <td>0.852673</td>\n",
       "      <td>2.390789</td>\n",
       "      <td>2.420319</td>\n",
       "      <td>2.439145</td>\n",
       "      <td>2.448875</td>\n",
       "      <td>2.449683</td>\n",
       "      <td>6.148377</td>\n",
       "      <td>5.450743</td>\n",
       "      <td>4.832378</td>\n",
       "      <td>14.975497</td>\n",
       "      <td>14.321407</td>\n",
       "      <td>13.388955</td>\n",
       "    </tr>\n",
       "    <tr>\n",
       "      <th>max</th>\n",
       "      <td>10.624040</td>\n",
       "      <td>1.539170</td>\n",
       "      <td>1.390840</td>\n",
       "      <td>4.879330</td>\n",
       "      <td>0.999812</td>\n",
       "      <td>26.009380</td>\n",
       "      <td>2.724017</td>\n",
       "      <td>2.737767</td>\n",
       "      <td>2.728628</td>\n",
       "      <td>2.730472</td>\n",
       "      <td>61.133380</td>\n",
       "      <td>134.394700</td>\n",
       "      <td>89.220090</td>\n",
       "      <td>112.493900</td>\n",
       "      <td>162.428100</td>\n",
       "      <td>116.535700</td>\n",
       "    </tr>\n",
       "  </tbody>\n",
       "</table>\n",
       "</div>"
      ],
      "text/plain": [
       "              u-g         g-r         r-i         i-z         ecc  \\\n",
       "count  780.000000  780.000000  780.000000  780.000000  780.000000   \n",
       "mean     1.633556    0.751285    0.390027    0.256630    0.713827   \n",
       "std      0.680241    0.333986    0.094902    0.434369    0.171010   \n",
       "min     -8.202350   -4.708600   -0.630590   -7.698340    0.226894   \n",
       "25%      1.333080    0.620432    0.353687    0.227997    0.592427   \n",
       "50%      1.701755    0.789610    0.400985    0.294780    0.744386   \n",
       "75%      1.914082    0.905282    0.430363    0.326920    0.852673   \n",
       "max     10.624040    1.539170    1.390840    4.879330    0.999812   \n",
       "\n",
       "              m4_u         m4_g         m4_r         m4_i         m4_z  \\\n",
       "count   780.000000   780.000000   780.000000   780.000000   780.000000   \n",
       "mean    -36.228336   -10.499354   -23.280043   -36.084795   -48.904677   \n",
       "std     619.454396   358.104842   506.113635   619.462662   714.833597   \n",
       "min   -9999.000000 -9999.000000 -9999.000000 -9999.000000 -9999.000000   \n",
       "25%       2.124926     2.238136     2.303345     2.327275     2.329166   \n",
       "50%       2.269386     2.351759     2.380019     2.394285     2.390121   \n",
       "75%       2.390789     2.420319     2.439145     2.448875     2.449683   \n",
       "max      26.009380     2.724017     2.737767     2.728628     2.730472   \n",
       "\n",
       "        petroR50_u  petroR50_r   petroR50_z   petroR90_u  petroR90_r  \\\n",
       "count   780.000000  780.000000   780.000000   780.000000  780.000000   \n",
       "mean    -46.026529    4.897747   -34.147368   -38.642822   12.625589   \n",
       "std     715.052758    5.647410   619.598004   715.634265    9.482342   \n",
       "min   -9999.000000    0.617535 -9999.000000 -9999.000000    1.031904   \n",
       "25%       2.896251    2.884019     2.553682     7.056056    8.101448   \n",
       "50%       4.391504    3.929862     3.449929    10.743275   10.509180   \n",
       "75%       6.148377    5.450743     4.832378    14.975497   14.321407   \n",
       "max      61.133380  134.394700    89.220090   112.493900  162.428100   \n",
       "\n",
       "        petroR90_z  \n",
       "count   780.000000  \n",
       "mean    -27.091879  \n",
       "std     620.075967  \n",
       "min   -9999.000000  \n",
       "25%       7.145191  \n",
       "50%       9.423079  \n",
       "75%      13.388955  \n",
       "max     116.535700  "
      ]
     },
     "execution_count": 6,
     "metadata": {},
     "output_type": "execute_result"
    }
   ],
   "source": [
    "dataset.describe()"
   ]
  },
  {
   "cell_type": "code",
   "execution_count": 7,
   "metadata": {},
   "outputs": [],
   "source": [
    "X = dataset.iloc[:,:10]\n",
    "y=dataset['class']\n"
   ]
  },
  {
   "cell_type": "code",
   "execution_count": 8,
   "metadata": {},
   "outputs": [],
   "source": [
    "y2 =y.copy()"
   ]
  },
  {
   "cell_type": "code",
   "execution_count": 9,
   "metadata": {},
   "outputs": [
    {
     "data": {
      "text/plain": [
       "(780, 1)"
      ]
     },
     "execution_count": 9,
     "metadata": {},
     "output_type": "execute_result"
    }
   ],
   "source": [
    "y2 = pd.DataFrame(y2)\n",
    "y2.shape"
   ]
  },
  {
   "cell_type": "code",
   "execution_count": 10,
   "metadata": {},
   "outputs": [
    {
     "data": {
      "text/plain": [
       "(780, 10)"
      ]
     },
     "execution_count": 10,
     "metadata": {},
     "output_type": "execute_result"
    }
   ],
   "source": [
    "X.shape"
   ]
  },
  {
   "cell_type": "code",
   "execution_count": 11,
   "metadata": {},
   "outputs": [],
   "source": [
    "X['conc_u']=(dataset['petroR50_u'])/(dataset['petroR90_u'])"
   ]
  },
  {
   "cell_type": "code",
   "execution_count": 12,
   "metadata": {},
   "outputs": [
    {
     "data": {
      "text/plain": [
       "(780, 12)"
      ]
     },
     "execution_count": 12,
     "metadata": {},
     "output_type": "execute_result"
    }
   ],
   "source": [
    "X['conc_r']=dataset['petroR50_r']/dataset['petroR90_r']\n",
    "X.shape"
   ]
  },
  {
   "cell_type": "code",
   "execution_count": 13,
   "metadata": {},
   "outputs": [
    {
     "data": {
      "text/plain": [
       "(780, 13)"
      ]
     },
     "execution_count": 13,
     "metadata": {},
     "output_type": "execute_result"
    }
   ],
   "source": [
    "X['conc_z']= dataset['petroR50_z']/dataset['petroR90_z']\n",
    "X.shape"
   ]
  },
  {
   "cell_type": "code",
   "execution_count": 14,
   "metadata": {},
   "outputs": [],
   "source": [
    "import seaborn as sns"
   ]
  },
  {
   "cell_type": "code",
   "execution_count": 15,
   "metadata": {},
   "outputs": [
    {
     "data": {
      "text/plain": [
       "<matplotlib.axes._subplots.AxesSubplot at 0xcf444b7828>"
      ]
     },
     "execution_count": 15,
     "metadata": {},
     "output_type": "execute_result"
    },
    {
     "data": {
      "image/png": "[encoded data removed]",
      "text/plain": [
       "<Figure size 432x288 with 1 Axes>"
      ]
     },
     "metadata": {
      "needs_background": "light"
     },
     "output_type": "display_data"
    }
   ],
   "source": [
    "sns.countplot(y)"
   ]
  },
  {
   "cell_type": "code",
   "execution_count": 16,
   "metadata": {},
   "outputs": [
    {
     "data": {
      "text/plain": [
       "'spiral'"
      ]
     },
     "execution_count": 16,
     "metadata": {},
     "output_type": "execute_result"
    }
   ],
   "source": [
    "y[600]"
   ]
  },
  {
   "cell_type": "code",
   "execution_count": 17,
   "metadata": {},
   "outputs": [
    {
     "data": {
      "text/plain": [
       "0    merger\n",
       "1    merger\n",
       "2    merger\n",
       "3    merger\n",
       "4    merger\n",
       "Name: class, dtype: object"
      ]
     },
     "execution_count": 17,
     "metadata": {},
     "output_type": "execute_result"
    }
   ],
   "source": [
    "y2.iloc[:,0].head()"
   ]
  },
  {
   "cell_type": "code",
   "execution_count": 20,
   "metadata": {},
   "outputs": [],
   "source": [
    "from keras.utils.np_utils import to_categorical"
   ]
  },
  {
   "cell_type": "code",
   "execution_count": 19,
   "metadata": {},
   "outputs": [
    {
     "data": {
      "text/html": [
       "<div>\n",
       "<style scoped>\n",
       "    .dataframe tbody tr th:only-of-type {\n",
       "        vertical-align: middle;\n",
       "    }\n",
       "\n",
       "    .dataframe tbody tr th {\n",
       "        vertical-align: top;\n",
       "    }\n",
       "\n",
       "    .dataframe thead th {\n",
       "        text-align: right;\n",
       "    }\n",
       "</style>\n",
       "<table border=\"1\" class=\"dataframe\">\n",
       "  <thead>\n",
       "    <tr style=\"text-align: right;\">\n",
       "      <th></th>\n",
       "      <th>class</th>\n",
       "    </tr>\n",
       "  </thead>\n",
       "  <tbody>\n",
       "    <tr>\n",
       "      <th>0</th>\n",
       "      <td>merger</td>\n",
       "    </tr>\n",
       "    <tr>\n",
       "      <th>1</th>\n",
       "      <td>merger</td>\n",
       "    </tr>\n",
       "    <tr>\n",
       "      <th>2</th>\n",
       "      <td>merger</td>\n",
       "    </tr>\n",
       "    <tr>\n",
       "      <th>3</th>\n",
       "      <td>merger</td>\n",
       "    </tr>\n",
       "    <tr>\n",
       "      <th>4</th>\n",
       "      <td>merger</td>\n",
       "    </tr>\n",
       "  </tbody>\n",
       "</table>\n",
       "</div>"
      ],
      "text/plain": [
       "    class\n",
       "0  merger\n",
       "1  merger\n",
       "2  merger\n",
       "3  merger\n",
       "4  merger"
      ]
     },
     "execution_count": 19,
     "metadata": {},
     "output_type": "execute_result"
    }
   ],
   "source": [
    "y2.head()"
   ]
  },
  {
   "cell_type": "code",
   "execution_count": 21,
   "metadata": {},
   "outputs": [],
   "source": [
    "from sklearn.model_selection import train_test_split\n",
    "X_train, X_test, y_train, y_test = train_test_split(X, y2, test_size = 0.2, random_state = 0)"
   ]
  },
  {
   "cell_type": "code",
   "execution_count": 22,
   "metadata": {},
   "outputs": [],
   "source": [
    "space = {'merger':0,'elliptical':1,'spiral':2}\n",
    "y_train = y_train.iloc[:,0].map(space)\n",
    "y_train = to_categorical(y_train,3)"
   ]
  },
  {
   "cell_type": "code",
   "execution_count": 23,
   "metadata": {},
   "outputs": [
    {
     "data": {
      "text/plain": [
       "(624, 3)"
      ]
     },
     "execution_count": 23,
     "metadata": {},
     "output_type": "execute_result"
    }
   ],
   "source": [
    "y_train.shape"
   ]
  },
  {
   "cell_type": "code",
   "execution_count": 24,
   "metadata": {},
   "outputs": [],
   "source": [
    "from sklearn.preprocessing import StandardScaler\n",
    "sc = StandardScaler()\n",
    "X_train = sc.fit_transform(X_train)\n",
    "X_test = sc.transform(X_test)"
   ]
  },
  {
   "cell_type": "code",
   "execution_count": 25,
   "metadata": {},
   "outputs": [
    {
     "data": {
      "text/plain": [
       "(624, 13)"
      ]
     },
     "execution_count": 25,
     "metadata": {},
     "output_type": "execute_result"
    }
   ],
   "source": [
    "X_train.shape"
   ]
  },
  {
   "cell_type": "code",
   "execution_count": 26,
   "metadata": {},
   "outputs": [
    {
     "data": {
      "text/plain": [
       "(624, 3)"
      ]
     },
     "execution_count": 26,
     "metadata": {},
     "output_type": "execute_result"
    }
   ],
   "source": [
    "y_train.shape"
   ]
  },
  {
   "cell_type": "code",
   "execution_count": 27,
   "metadata": {},
   "outputs": [
    {
     "data": {
      "text/plain": [
       "array([1., 0., 0.], dtype=float32)"
      ]
     },
     "execution_count": 27,
     "metadata": {},
     "output_type": "execute_result"
    }
   ],
   "source": [
    "y_train[0]"
   ]
  },
  {
   "cell_type": "code",
   "execution_count": 28,
   "metadata": {},
   "outputs": [],
   "source": [
    "import keras\n",
    "from keras.models import Sequential\n",
    "from keras.layers import Dense"
   ]
  },
  {
   "cell_type": "code",
   "execution_count": 29,
   "metadata": {},
   "outputs": [
    {
     "name": "stderr",
     "output_type": "stream",
     "text": [
      "D:\\anaconda\\lib\\site-packages\\ipykernel_launcher.py:5: UserWarning: Update your `Dense` call to the Keras 2 API: `Dense(activation=\"relu\", input_dim=13, units=6, kernel_initializer=\"uniform\")`\n",
      "  \"\"\"\n",
      "D:\\anaconda\\lib\\site-packages\\ipykernel_launcher.py:7: UserWarning: Update your `Dense` call to the Keras 2 API: `Dense(activation=\"relu\", units=32, kernel_initializer=\"uniform\")`\n",
      "  import sys\n",
      "D:\\anaconda\\lib\\site-packages\\ipykernel_launcher.py:10: UserWarning: Update your `Dense` call to the Keras 2 API: `Dense(activation=\"softmax\", units=3, kernel_initializer=\"uniform\")`\n",
      "  # Remove the CWD from sys.path while we load stuff.\n"
     ]
    }
   ],
   "source": [
    "# intialising the ann\n",
    "classifier = Sequential()\n",
    "\n",
    "#adding input layer,hidden layer\n",
    "classifier.add(Dense(output_dim = 6, init='uniform' , activation = 'relu' , input_dim= 13))\n",
    "\n",
    "classifier.add(Dense(output_dim = 32, init='uniform' , activation = 'relu' ))\n",
    "\n",
    "#adding output layer\n",
    "classifier.add(Dense(output_dim = 3, init='uniform' , activation = 'softmax'))"
   ]
  },
  {
   "cell_type": "code",
   "execution_count": 30,
   "metadata": {},
   "outputs": [
    {
     "name": "stdout",
     "output_type": "stream",
     "text": [
      "Model: \"sequential_1\"\n",
      "_________________________________________________________________\n",
      "Layer (type)                 Output Shape              Param #   \n",
      "=================================================================\n",
      "dense_1 (Dense)              (None, 6)                 84        \n",
      "_________________________________________________________________\n",
      "dense_2 (Dense)              (None, 32)                224       \n",
      "_________________________________________________________________\n",
      "dense_3 (Dense)              (None, 3)                 99        \n",
      "=================================================================\n",
      "Total params: 407\n",
      "Trainable params: 407\n",
      "Non-trainable params: 0\n",
      "_________________________________________________________________\n"
     ]
    }
   ],
   "source": [
    "classifier.summary()"
   ]
  },
  {
   "cell_type": "code",
   "execution_count": 31,
   "metadata": {},
   "outputs": [
    {
     "name": "stdout",
     "output_type": "stream",
     "text": [
      "WARNING:tensorflow:From D:\\anaconda\\lib\\site-packages\\keras\\backend\\tensorflow_backend.py:422: The name tf.global_variables is deprecated. Please use tf.compat.v1.global_variables instead.\n",
      "\n",
      "Epoch 1/200\n",
      "624/624 [==============================] - 1s 2ms/step - loss: 1.0888 - accuracy: 0.4696\n",
      "Epoch 2/200\n",
      "624/624 [==============================] - 0s 487us/step - loss: 0.9372 - accuracy: 0.7035\n",
      "Epoch 3/200\n",
      "624/624 [==============================] - 0s 361us/step - loss: 0.7380 - accuracy: 0.6955\n",
      "Epoch 4/200\n",
      "624/624 [==============================] - 0s 390us/step - loss: 0.6198 - accuracy: 0.7532\n",
      "Epoch 5/200\n",
      "624/624 [==============================] - 0s 370us/step - loss: 0.5524 - accuracy: 0.7837\n",
      "Epoch 6/200\n",
      "624/624 [==============================] - 0s 447us/step - loss: 0.5133 - accuracy: 0.7997\n",
      "Epoch 7/200\n",
      "624/624 [==============================] - 0s 407us/step - loss: 0.4880 - accuracy: 0.8077\n",
      "Epoch 8/200\n",
      "624/624 [==============================] - 0s 345us/step - loss: 0.4735 - accuracy: 0.8141\n",
      "Epoch 9/200\n",
      "624/624 [==============================] - 0s 361us/step - loss: 0.4652 - accuracy: 0.8157\n",
      "Epoch 10/200\n",
      "624/624 [==============================] - 0s 386us/step - loss: 0.4605 - accuracy: 0.8173\n",
      "Epoch 11/200\n",
      "624/624 [==============================] - 0s 385us/step - loss: 0.4573 - accuracy: 0.8173\n",
      "Epoch 12/200\n",
      "624/624 [==============================] - 0s 407us/step - loss: 0.4498 - accuracy: 0.8301\n",
      "Epoch 13/200\n",
      "624/624 [==============================] - 0s 327us/step - loss: 0.4453 - accuracy: 0.8301\n",
      "Epoch 14/200\n",
      "624/624 [==============================] - 0s 295us/step - loss: 0.4432 - accuracy: 0.8301\n",
      "Epoch 15/200\n",
      "624/624 [==============================] - 0s 330us/step - loss: 0.4395 - accuracy: 0.8381\n",
      "Epoch 16/200\n",
      "624/624 [==============================] - 0s 318us/step - loss: 0.4362 - accuracy: 0.8349\n",
      "Epoch 17/200\n",
      "624/624 [==============================] - 0s 356us/step - loss: 0.4339 - accuracy: 0.8365\n",
      "Epoch 18/200\n",
      "624/624 [==============================] - 0s 351us/step - loss: 0.4307 - accuracy: 0.8349\n",
      "Epoch 19/200\n",
      "624/624 [==============================] - 0s 283us/step - loss: 0.4318 - accuracy: 0.8317\n",
      "Epoch 20/200\n",
      "624/624 [==============================] - 0s 281us/step - loss: 0.4271 - accuracy: 0.8365\n",
      "Epoch 21/200\n",
      "624/624 [==============================] - 0s 285us/step - loss: 0.4238 - accuracy: 0.8429\n",
      "Epoch 22/200\n",
      "624/624 [==============================] - 0s 287us/step - loss: 0.4213 - accuracy: 0.8397\n",
      "Epoch 23/200\n",
      "624/624 [==============================] - 0s 329us/step - loss: 0.4189 - accuracy: 0.8446\n",
      "Epoch 24/200\n",
      "624/624 [==============================] - 0s 334us/step - loss: 0.4205 - accuracy: 0.8365\n",
      "Epoch 25/200\n",
      "624/624 [==============================] - 0s 241us/step - loss: 0.4183 - accuracy: 0.8397\n",
      "Epoch 26/200\n",
      "624/624 [==============================] - 0s 242us/step - loss: 0.4142 - accuracy: 0.8413\n",
      "Epoch 27/200\n",
      "624/624 [==============================] - 0s 245us/step - loss: 0.4151 - accuracy: 0.8397\n",
      "Epoch 28/200\n",
      "624/624 [==============================] - 0s 281us/step - loss: 0.4138 - accuracy: 0.8413\n",
      "Epoch 29/200\n",
      "624/624 [==============================] - 0s 271us/step - loss: 0.4105 - accuracy: 0.8429\n",
      "Epoch 30/200\n",
      "624/624 [==============================] - 0s 286us/step - loss: 0.4093 - accuracy: 0.8397\n",
      "Epoch 31/200\n",
      "624/624 [==============================] - 0s 314us/step - loss: 0.4070 - accuracy: 0.8446\n",
      "Epoch 32/200\n",
      "624/624 [==============================] - 0s 274us/step - loss: 0.4062 - accuracy: 0.8462\n",
      "Epoch 33/200\n",
      "624/624 [==============================] - 0s 269us/step - loss: 0.4044 - accuracy: 0.8446\n",
      "Epoch 34/200\n",
      "624/624 [==============================] - 0s 265us/step - loss: 0.4012 - accuracy: 0.8446\n",
      "Epoch 35/200\n",
      "624/624 [==============================] - 0s 282us/step - loss: 0.3994 - accuracy: 0.8462\n",
      "Epoch 36/200\n",
      "624/624 [==============================] - 0s 260us/step - loss: 0.3988 - accuracy: 0.8478\n",
      "Epoch 37/200\n",
      "624/624 [==============================] - 0s 300us/step - loss: 0.3962 - accuracy: 0.8478\n",
      "Epoch 38/200\n",
      "624/624 [==============================] - 0s 245us/step - loss: 0.3952 - accuracy: 0.8462\n",
      "Epoch 39/200\n",
      "624/624 [==============================] - 0s 226us/step - loss: 0.3947 - accuracy: 0.8478\n",
      "Epoch 40/200\n",
      "624/624 [==============================] - 0s 236us/step - loss: 0.3921 - accuracy: 0.8494\n",
      "Epoch 41/200\n",
      "624/624 [==============================] - 0s 233us/step - loss: 0.3902 - accuracy: 0.8462\n",
      "Epoch 42/200\n",
      "624/624 [==============================] - 0s 229us/step - loss: 0.3890 - accuracy: 0.8478\n",
      "Epoch 43/200\n",
      "624/624 [==============================] - 0s 245us/step - loss: 0.3874 - accuracy: 0.8462\n",
      "Epoch 44/200\n",
      "624/624 [==============================] - 0s 242us/step - loss: 0.3843 - accuracy: 0.8510\n",
      "Epoch 45/200\n",
      "624/624 [==============================] - 0s 282us/step - loss: 0.3821 - accuracy: 0.8494\n",
      "Epoch 46/200\n",
      "624/624 [==============================] - 0s 237us/step - loss: 0.3830 - accuracy: 0.8494\n",
      "Epoch 47/200\n",
      "624/624 [==============================] - 0s 202us/step - loss: 0.3786 - accuracy: 0.8494\n",
      "Epoch 48/200\n",
      "624/624 [==============================] - 0s 212us/step - loss: 0.3845 - accuracy: 0.8494\n",
      "Epoch 49/200\n",
      "624/624 [==============================] - 0s 225us/step - loss: 0.3796 - accuracy: 0.8494\n",
      "Epoch 50/200\n",
      "624/624 [==============================] - 0s 229us/step - loss: 0.3742 - accuracy: 0.8462\n",
      "Epoch 51/200\n",
      "624/624 [==============================] - 0s 241us/step - loss: 0.3743 - accuracy: 0.8494\n",
      "Epoch 52/200\n",
      "624/624 [==============================] - 0s 236us/step - loss: 0.3738 - accuracy: 0.8478\n",
      "Epoch 53/200\n",
      "624/624 [==============================] - 0s 228us/step - loss: 0.3742 - accuracy: 0.8510\n",
      "Epoch 54/200\n",
      "624/624 [==============================] - 0s 189us/step - loss: 0.3715 - accuracy: 0.8446\n",
      "Epoch 55/200\n",
      "624/624 [==============================] - 0s 186us/step - loss: 0.3693 - accuracy: 0.8478\n",
      "Epoch 56/200\n",
      "624/624 [==============================] - 0s 182us/step - loss: 0.3658 - accuracy: 0.8510\n",
      "Epoch 57/200\n",
      "624/624 [==============================] - 0s 181us/step - loss: 0.3665 - accuracy: 0.8494\n",
      "Epoch 58/200\n",
      "624/624 [==============================] - 0s 180us/step - loss: 0.3657 - accuracy: 0.8462\n",
      "Epoch 59/200\n",
      "624/624 [==============================] - 0s 186us/step - loss: 0.3636 - accuracy: 0.8526\n",
      "Epoch 60/200\n",
      "624/624 [==============================] - 0s 178us/step - loss: 0.3637 - accuracy: 0.8526\n",
      "Epoch 61/200\n",
      "624/624 [==============================] - 0s 204us/step - loss: 0.3645 - accuracy: 0.8494\n",
      "Epoch 62/200\n",
      "624/624 [==============================] - 0s 231us/step - loss: 0.3604 - accuracy: 0.8510\n",
      "Epoch 63/200\n",
      "624/624 [==============================] - 0s 125us/step - loss: 0.3583 - accuracy: 0.8542\n",
      "Epoch 64/200\n",
      "624/624 [==============================] - 0s 122us/step - loss: 0.3565 - accuracy: 0.8526\n",
      "Epoch 65/200\n",
      "624/624 [==============================] - 0s 121us/step - loss: 0.3597 - accuracy: 0.8542\n",
      "Epoch 66/200\n",
      "624/624 [==============================] - 0s 120us/step - loss: 0.3578 - accuracy: 0.8526\n",
      "Epoch 67/200\n",
      "624/624 [==============================] - 0s 132us/step - loss: 0.3554 - accuracy: 0.8574\n",
      "Epoch 68/200\n",
      "624/624 [==============================] - 0s 125us/step - loss: 0.3543 - accuracy: 0.8510\n",
      "Epoch 69/200\n",
      "624/624 [==============================] - 0s 125us/step - loss: 0.3555 - accuracy: 0.8590\n",
      "Epoch 70/200\n",
      "624/624 [==============================] - 0s 127us/step - loss: 0.3538 - accuracy: 0.8542\n",
      "Epoch 71/200\n",
      "624/624 [==============================] - 0s 128us/step - loss: 0.3530 - accuracy: 0.8462\n",
      "Epoch 72/200\n",
      "624/624 [==============================] - 0s 128us/step - loss: 0.3509 - accuracy: 0.8606\n",
      "Epoch 73/200\n",
      "624/624 [==============================] - 0s 127us/step - loss: 0.3499 - accuracy: 0.8622\n",
      "Epoch 74/200\n",
      "624/624 [==============================] - 0s 136us/step - loss: 0.3482 - accuracy: 0.8526\n",
      "Epoch 75/200\n",
      "624/624 [==============================] - 0s 157us/step - loss: 0.3484 - accuracy: 0.8574\n",
      "Epoch 76/200\n",
      "624/624 [==============================] - 0s 117us/step - loss: 0.3469 - accuracy: 0.8574\n",
      "Epoch 77/200\n",
      "624/624 [==============================] - 0s 128us/step - loss: 0.3500 - accuracy: 0.8526\n",
      "Epoch 78/200\n",
      "624/624 [==============================] - 0s 127us/step - loss: 0.3470 - accuracy: 0.8590\n",
      "Epoch 79/200\n",
      "624/624 [==============================] - 0s 117us/step - loss: 0.3468 - accuracy: 0.8574\n",
      "Epoch 80/200\n",
      "624/624 [==============================] - 0s 120us/step - loss: 0.3457 - accuracy: 0.8526\n",
      "Epoch 81/200\n",
      "624/624 [==============================] - 0s 119us/step - loss: 0.3442 - accuracy: 0.8574\n",
      "Epoch 82/200\n",
      "624/624 [==============================] - 0s 115us/step - loss: 0.3456 - accuracy: 0.8558\n",
      "Epoch 83/200\n",
      "624/624 [==============================] - 0s 120us/step - loss: 0.3438 - accuracy: 0.8542\n",
      "Epoch 84/200\n",
      "624/624 [==============================] - 0s 119us/step - loss: 0.3442 - accuracy: 0.8574\n",
      "Epoch 85/200\n",
      "624/624 [==============================] - 0s 122us/step - loss: 0.3449 - accuracy: 0.8638\n",
      "Epoch 86/200\n",
      "624/624 [==============================] - 0s 122us/step - loss: 0.3432 - accuracy: 0.8574\n",
      "Epoch 87/200\n",
      "624/624 [==============================] - 0s 119us/step - loss: 0.3392 - accuracy: 0.8606\n",
      "Epoch 88/200\n",
      "624/624 [==============================] - 0s 154us/step - loss: 0.3383 - accuracy: 0.8574\n",
      "Epoch 89/200\n",
      "624/624 [==============================] - 0s 133us/step - loss: 0.3378 - accuracy: 0.8590\n",
      "Epoch 90/200\n",
      "624/624 [==============================] - 0s 122us/step - loss: 0.3412 - accuracy: 0.8574\n",
      "Epoch 91/200\n",
      "624/624 [==============================] - 0s 122us/step - loss: 0.3390 - accuracy: 0.8590\n",
      "Epoch 92/200\n",
      "624/624 [==============================] - 0s 120us/step - loss: 0.3380 - accuracy: 0.8590\n",
      "Epoch 93/200\n",
      "624/624 [==============================] - 0s 124us/step - loss: 0.3382 - accuracy: 0.8590\n",
      "Epoch 94/200\n",
      "624/624 [==============================] - 0s 122us/step - loss: 0.3375 - accuracy: 0.8590\n",
      "Epoch 95/200\n",
      "624/624 [==============================] - 0s 120us/step - loss: 0.3428 - accuracy: 0.8558\n",
      "Epoch 96/200\n",
      "624/624 [==============================] - 0s 125us/step - loss: 0.3380 - accuracy: 0.8606\n",
      "Epoch 97/200\n",
      "624/624 [==============================] - 0s 125us/step - loss: 0.3379 - accuracy: 0.8574\n",
      "Epoch 98/200\n",
      "624/624 [==============================] - 0s 120us/step - loss: 0.3348 - accuracy: 0.8574\n",
      "Epoch 99/200\n",
      "624/624 [==============================] - 0s 119us/step - loss: 0.3352 - accuracy: 0.8670\n",
      "Epoch 100/200\n",
      "624/624 [==============================] - 0s 125us/step - loss: 0.3343 - accuracy: 0.8542\n",
      "Epoch 101/200\n",
      "624/624 [==============================] - 0s 136us/step - loss: 0.3333 - accuracy: 0.8654\n",
      "Epoch 102/200\n",
      "624/624 [==============================] - 0s 172us/step - loss: 0.3360 - accuracy: 0.8558\n",
      "Epoch 103/200\n",
      "624/624 [==============================] - 0s 143us/step - loss: 0.3338 - accuracy: 0.8622\n",
      "Epoch 104/200\n",
      "624/624 [==============================] - 0s 130us/step - loss: 0.3328 - accuracy: 0.8622\n",
      "Epoch 105/200\n",
      "624/624 [==============================] - 0s 148us/step - loss: 0.3324 - accuracy: 0.8670\n",
      "Epoch 106/200\n",
      "624/624 [==============================] - 0s 138us/step - loss: 0.3339 - accuracy: 0.8670\n",
      "Epoch 107/200\n",
      "624/624 [==============================] - 0s 144us/step - loss: 0.3313 - accuracy: 0.8638\n",
      "Epoch 108/200\n",
      "624/624 [==============================] - 0s 160us/step - loss: 0.3343 - accuracy: 0.8654\n",
      "Epoch 109/200\n",
      "624/624 [==============================] - 0s 128us/step - loss: 0.3339 - accuracy: 0.8654\n",
      "Epoch 110/200\n",
      "624/624 [==============================] - 0s 159us/step - loss: 0.3317 - accuracy: 0.8606\n",
      "Epoch 111/200\n",
      "624/624 [==============================] - 0s 152us/step - loss: 0.3299 - accuracy: 0.8622\n",
      "Epoch 112/200\n",
      "624/624 [==============================] - 0s 149us/step - loss: 0.3300 - accuracy: 0.8606\n",
      "Epoch 113/200\n",
      "624/624 [==============================] - 0s 204us/step - loss: 0.3332 - accuracy: 0.8638\n",
      "Epoch 114/200\n",
      "624/624 [==============================] - 0s 146us/step - loss: 0.3299 - accuracy: 0.8590\n",
      "Epoch 115/200\n",
      "624/624 [==============================] - 0s 133us/step - loss: 0.3309 - accuracy: 0.8654\n",
      "Epoch 116/200\n",
      "624/624 [==============================] - 0s 149us/step - loss: 0.3295 - accuracy: 0.8622\n",
      "Epoch 117/200\n",
      "624/624 [==============================] - 0s 140us/step - loss: 0.3286 - accuracy: 0.8702\n",
      "Epoch 118/200\n",
      "624/624 [==============================] - 0s 138us/step - loss: 0.3295 - accuracy: 0.8670\n",
      "Epoch 119/200\n",
      "624/624 [==============================] - 0s 128us/step - loss: 0.3323 - accuracy: 0.8654\n",
      "Epoch 120/200\n",
      "624/624 [==============================] - 0s 120us/step - loss: 0.3286 - accuracy: 0.8638\n",
      "Epoch 121/200\n",
      "624/624 [==============================] - 0s 136us/step - loss: 0.3269 - accuracy: 0.8654\n",
      "Epoch 122/200\n",
      "624/624 [==============================] - 0s 136us/step - loss: 0.3279 - accuracy: 0.8574\n",
      "Epoch 123/200\n",
      "624/624 [==============================] - 0s 129us/step - loss: 0.3292 - accuracy: 0.8590\n",
      "Epoch 124/200\n",
      "624/624 [==============================] - 0s 120us/step - loss: 0.3248 - accuracy: 0.8702\n",
      "Epoch 125/200\n",
      "624/624 [==============================] - 0s 173us/step - loss: 0.3266 - accuracy: 0.8686\n",
      "Epoch 126/200\n",
      "624/624 [==============================] - 0s 141us/step - loss: 0.3268 - accuracy: 0.8654\n",
      "Epoch 127/200\n",
      "624/624 [==============================] - 0s 125us/step - loss: 0.3294 - accuracy: 0.8558\n",
      "Epoch 128/200\n",
      "624/624 [==============================] - 0s 130us/step - loss: 0.3292 - accuracy: 0.8638\n",
      "Epoch 129/200\n",
      "624/624 [==============================] - 0s 130us/step - loss: 0.3260 - accuracy: 0.8558\n",
      "Epoch 130/200\n",
      "624/624 [==============================] - 0s 136us/step - loss: 0.3244 - accuracy: 0.8702\n",
      "Epoch 131/200\n",
      "624/624 [==============================] - 0s 128us/step - loss: 0.3285 - accuracy: 0.8638\n",
      "Epoch 132/200\n",
      "624/624 [==============================] - 0s 128us/step - loss: 0.3237 - accuracy: 0.8702\n",
      "Epoch 133/200\n",
      "624/624 [==============================] - 0s 130us/step - loss: 0.3241 - accuracy: 0.8718\n",
      "Epoch 134/200\n",
      "624/624 [==============================] - 0s 130us/step - loss: 0.3264 - accuracy: 0.8638\n",
      "Epoch 135/200\n",
      "624/624 [==============================] - 0s 132us/step - loss: 0.3232 - accuracy: 0.8686\n",
      "Epoch 136/200\n",
      "624/624 [==============================] - 0s 127us/step - loss: 0.3240 - accuracy: 0.8670\n",
      "Epoch 137/200\n",
      "624/624 [==============================] - 0s 130us/step - loss: 0.3261 - accuracy: 0.8606\n",
      "Epoch 138/200\n",
      "624/624 [==============================] - 0s 167us/step - loss: 0.3244 - accuracy: 0.8718\n",
      "Epoch 139/200\n",
      "624/624 [==============================] - 0s 133us/step - loss: 0.3219 - accuracy: 0.8686\n",
      "Epoch 140/200\n",
      "624/624 [==============================] - 0s 138us/step - loss: 0.3236 - accuracy: 0.8654\n",
      "Epoch 141/200\n",
      "624/624 [==============================] - 0s 123us/step - loss: 0.3204 - accuracy: 0.8686\n",
      "Epoch 142/200\n",
      "624/624 [==============================] - 0s 130us/step - loss: 0.3221 - accuracy: 0.8606\n",
      "Epoch 143/200\n",
      "624/624 [==============================] - 0s 148us/step - loss: 0.3202 - accuracy: 0.8654\n",
      "Epoch 144/200\n",
      "624/624 [==============================] - 0s 146us/step - loss: 0.3234 - accuracy: 0.8670\n",
      "Epoch 145/200\n",
      "624/624 [==============================] - 0s 146us/step - loss: 0.3208 - accuracy: 0.8702\n",
      "Epoch 146/200\n",
      "624/624 [==============================] - 0s 141us/step - loss: 0.3186 - accuracy: 0.8670\n",
      "Epoch 147/200\n",
      "624/624 [==============================] - 0s 122us/step - loss: 0.3194 - accuracy: 0.8606\n",
      "Epoch 148/200\n",
      "624/624 [==============================] - 0s 143us/step - loss: 0.3167 - accuracy: 0.8702\n",
      "Epoch 149/200\n",
      "624/624 [==============================] - 0s 146us/step - loss: 0.3191 - accuracy: 0.8638\n",
      "Epoch 150/200\n",
      "624/624 [==============================] - 0s 188us/step - loss: 0.3206 - accuracy: 0.8606\n",
      "Epoch 151/200\n",
      "624/624 [==============================] - 0s 136us/step - loss: 0.3188 - accuracy: 0.8702\n",
      "Epoch 152/200\n",
      "624/624 [==============================] - 0s 141us/step - loss: 0.3195 - accuracy: 0.8670\n",
      "Epoch 153/200\n",
      "624/624 [==============================] - 0s 140us/step - loss: 0.3191 - accuracy: 0.8686\n",
      "Epoch 154/200\n",
      "624/624 [==============================] - 0s 151us/step - loss: 0.3195 - accuracy: 0.8670\n",
      "Epoch 155/200\n",
      "624/624 [==============================] - 0s 148us/step - loss: 0.3159 - accuracy: 0.8718\n",
      "Epoch 156/200\n",
      "624/624 [==============================] - 0s 130us/step - loss: 0.3221 - accuracy: 0.8734\n",
      "Epoch 157/200\n",
      "624/624 [==============================] - 0s 134us/step - loss: 0.3195 - accuracy: 0.8718\n",
      "Epoch 158/200\n",
      "624/624 [==============================] - 0s 138us/step - loss: 0.3189 - accuracy: 0.8606\n",
      "Epoch 159/200\n",
      "624/624 [==============================] - 0s 130us/step - loss: 0.3185 - accuracy: 0.8670\n",
      "Epoch 160/200\n",
      "624/624 [==============================] - 0s 140us/step - loss: 0.3157 - accuracy: 0.8670\n",
      "Epoch 161/200\n",
      "624/624 [==============================] - 0s 157us/step - loss: 0.3169 - accuracy: 0.8686\n",
      "Epoch 162/200\n",
      "624/624 [==============================] - 0s 189us/step - loss: 0.3201 - accuracy: 0.8638\n",
      "Epoch 163/200\n",
      "624/624 [==============================] - 0s 144us/step - loss: 0.3187 - accuracy: 0.8686\n",
      "Epoch 164/200\n",
      "624/624 [==============================] - 0s 135us/step - loss: 0.3151 - accuracy: 0.8670\n",
      "Epoch 165/200\n",
      "624/624 [==============================] - 0s 128us/step - loss: 0.3156 - accuracy: 0.8638\n",
      "Epoch 166/200\n",
      "624/624 [==============================] - 0s 125us/step - loss: 0.3154 - accuracy: 0.8702\n",
      "Epoch 167/200\n",
      "624/624 [==============================] - 0s 140us/step - loss: 0.3154 - accuracy: 0.8654\n",
      "Epoch 168/200\n",
      "624/624 [==============================] - 0s 146us/step - loss: 0.3188 - accuracy: 0.8750\n",
      "Epoch 169/200\n",
      "624/624 [==============================] - 0s 148us/step - loss: 0.3156 - accuracy: 0.8622\n",
      "Epoch 170/200\n",
      "624/624 [==============================] - 0s 168us/step - loss: 0.3147 - accuracy: 0.8686\n",
      "Epoch 171/200\n",
      "624/624 [==============================] - 0s 144us/step - loss: 0.3147 - accuracy: 0.8702\n",
      "Epoch 172/200\n",
      "624/624 [==============================] - 0s 138us/step - loss: 0.3168 - accuracy: 0.8654\n",
      "Epoch 173/200\n",
      "624/624 [==============================] - 0s 159us/step - loss: 0.3173 - accuracy: 0.8718\n",
      "Epoch 174/200\n",
      "624/624 [==============================] - 0s 156us/step - loss: 0.3146 - accuracy: 0.8622\n",
      "Epoch 175/200\n",
      "624/624 [==============================] - 0s 138us/step - loss: 0.3200 - accuracy: 0.8638\n",
      "Epoch 176/200\n",
      "624/624 [==============================] - 0s 138us/step - loss: 0.3138 - accuracy: 0.8686\n",
      "Epoch 177/200\n",
      "624/624 [==============================] - 0s 135us/step - loss: 0.3121 - accuracy: 0.8670\n",
      "Epoch 178/200\n",
      "624/624 [==============================] - 0s 100us/step - loss: 0.3116 - accuracy: 0.8702\n",
      "Epoch 179/200\n",
      "624/624 [==============================] - 0s 125us/step - loss: 0.3152 - accuracy: 0.8638\n",
      "Epoch 180/200\n",
      "624/624 [==============================] - 0s 126us/step - loss: 0.3119 - accuracy: 0.8782\n",
      "Epoch 181/200\n",
      "624/624 [==============================] - 0s 162us/step - loss: 0.3124 - accuracy: 0.8718\n",
      "Epoch 182/200\n",
      "624/624 [==============================] - 0s 146us/step - loss: 0.3124 - accuracy: 0.8686\n",
      "Epoch 183/200\n",
      "624/624 [==============================] - 0s 133us/step - loss: 0.3112 - accuracy: 0.8766\n",
      "Epoch 184/200\n",
      "624/624 [==============================] - 0s 140us/step - loss: 0.3131 - accuracy: 0.8686\n",
      "Epoch 185/200\n",
      "624/624 [==============================] - 0s 152us/step - loss: 0.3107 - accuracy: 0.8734\n",
      "Epoch 186/200\n",
      "624/624 [==============================] - 0s 162us/step - loss: 0.3140 - accuracy: 0.8718\n",
      "Epoch 187/200\n",
      "624/624 [==============================] - 0s 138us/step - loss: 0.3111 - accuracy: 0.8670\n",
      "Epoch 188/200\n",
      "624/624 [==============================] - 0s 143us/step - loss: 0.3103 - accuracy: 0.8734\n",
      "Epoch 189/200\n",
      "624/624 [==============================] - 0s 142us/step - loss: 0.3111 - accuracy: 0.8702\n",
      "Epoch 190/200\n",
      "624/624 [==============================] - 0s 138us/step - loss: 0.3099 - accuracy: 0.8734\n",
      "Epoch 191/200\n",
      "624/624 [==============================] - 0s 141us/step - loss: 0.3093 - accuracy: 0.8750\n",
      "Epoch 192/200\n",
      "624/624 [==============================] - 0s 141us/step - loss: 0.3106 - accuracy: 0.8750\n",
      "Epoch 193/200\n",
      "624/624 [==============================] - 0s 138us/step - loss: 0.3092 - accuracy: 0.8766\n",
      "Epoch 194/200\n",
      "624/624 [==============================] - 0s 135us/step - loss: 0.3097 - accuracy: 0.8702\n",
      "Epoch 195/200\n",
      "624/624 [==============================] - 0s 138us/step - loss: 0.3086 - accuracy: 0.8686\n",
      "Epoch 196/200\n",
      "624/624 [==============================] - 0s 135us/step - loss: 0.3098 - accuracy: 0.8766\n",
      "Epoch 197/200\n",
      "624/624 [==============================] - 0s 156us/step - loss: 0.3078 - accuracy: 0.8766\n",
      "Epoch 198/200\n",
      "624/624 [==============================] - 0s 181us/step - loss: 0.3109 - accuracy: 0.8654\n",
      "Epoch 199/200\n",
      "624/624 [==============================] - 0s 128us/step - loss: 0.3079 - accuracy: 0.8686\n",
      "Epoch 200/200\n",
      "624/624 [==============================] - 0s 140us/step - loss: 0.3080 - accuracy: 0.8814\n"
     ]
    }
   ],
   "source": [
    "classifier.compile(optimizer ='adam' , loss ='categorical_crossentropy',metrics =['accuracy'] )\n",
    "\n",
    "history=classifier.fit(X_train,y_train,batch_size = 10 ,epochs = 200)"
   ]
  },
  {
   "cell_type": "code",
   "execution_count": 32,
   "metadata": {},
   "outputs": [],
   "source": [
    "y_pred = classifier.predict(X_test)"
   ]
  },
  {
   "cell_type": "code",
   "execution_count": 33,
   "metadata": {},
   "outputs": [],
   "source": [
    "y_pred = np.argmax(y_pred,axis=1)"
   ]
  },
  {
   "cell_type": "code",
   "execution_count": 34,
   "metadata": {},
   "outputs": [
    {
     "data": {
      "text/plain": [
       "array([2, 1, 0, 0, 1, 1, 2, 0, 0, 2, 0, 1, 2, 2, 0, 2, 1, 1, 2, 1, 2, 0,\n",
       "       1, 2, 0, 2, 2, 2, 2, 2, 0, 1, 2, 2, 1, 1, 0, 1, 2, 0, 1, 2, 1, 0,\n",
       "       0, 1, 2, 1, 1, 2, 1, 1, 1, 2, 0, 1, 1, 0, 0, 1, 0, 1, 0, 2, 0, 1,\n",
       "       1, 1, 1, 1, 1, 2, 2, 0, 2, 2, 2, 2, 2, 2, 1, 2, 2, 0, 2, 1, 2, 2,\n",
       "       2, 1, 1, 0, 0, 1, 2, 0, 1, 0, 0, 2, 2, 0, 0, 2, 1, 1, 0, 0, 0, 0,\n",
       "       2, 2, 1, 1, 0, 0, 2, 2, 2, 1, 1, 2, 2, 1, 1, 2, 2, 1, 0, 2, 2, 1,\n",
       "       1, 1, 2, 1, 0, 1, 0, 0, 0, 0, 0, 2, 1, 1, 0, 2, 1, 0, 2, 0, 1, 0,\n",
       "       1, 1], dtype=int64)"
      ]
     },
     "execution_count": 34,
     "metadata": {},
     "output_type": "execute_result"
    }
   ],
   "source": [
    "y_pred"
   ]
  },
  {
   "cell_type": "code",
   "execution_count": 35,
   "metadata": {},
   "outputs": [
    {
     "data": {
      "text/plain": [
       "<bound method NDFrame.head of 699    2\n",
       "327    1\n",
       "210    0\n",
       "14     0\n",
       "413    1\n",
       "428    1\n",
       "585    2\n",
       "561    2\n",
       "214    0\n",
       "630    2\n",
       "31     0\n",
       "434    1\n",
       "644    2\n",
       "665    2\n",
       "103    0\n",
       "592    2\n",
       "306    1\n",
       "432    1\n",
       "222    0\n",
       "419    1\n",
       "650    2\n",
       "175    0\n",
       "312    1\n",
       "698    2\n",
       "27     0\n",
       "605    2\n",
       "531    2\n",
       "749    2\n",
       "689    2\n",
       "534    2\n",
       "      ..\n",
       "255    0\n",
       "489    1\n",
       "204    0\n",
       "737    2\n",
       "706    2\n",
       "196    0\n",
       "500    1\n",
       "390    1\n",
       "718    2\n",
       "71     0\n",
       "49     0\n",
       "266    1\n",
       "142    0\n",
       "535    2\n",
       "37     0\n",
       "231    0\n",
       "48     0\n",
       "546    2\n",
       "317    1\n",
       "346    1\n",
       "751    2\n",
       "647    2\n",
       "76     0\n",
       "64     0\n",
       "620    2\n",
       "52     0\n",
       "318    1\n",
       "602    2\n",
       "494    1\n",
       "352    1\n",
       "Name: class, Length: 156, dtype: int64>"
      ]
     },
     "execution_count": 35,
     "metadata": {},
     "output_type": "execute_result"
    }
   ],
   "source": [
    "space = {'merger':0,'elliptical':1,'spiral':2}\n",
    "y_test = y_test.iloc[:,0].map(space)\n",
    "y_test.head"
   ]
  },
  {
   "cell_type": "code",
   "execution_count": 36,
   "metadata": {},
   "outputs": [
    {
     "data": {
      "text/plain": [
       "array([[36,  6,  6],\n",
       "       [ 2, 50,  1],\n",
       "       [ 7,  0, 48]], dtype=int64)"
      ]
     },
     "execution_count": 36,
     "metadata": {},
     "output_type": "execute_result"
    }
   ],
   "source": [
    "from sklearn.metrics import confusion_matrix\n",
    "cm = confusion_matrix(y_test, y_pred)\n",
    "cm"
   ]
  },
  {
   "cell_type": "code",
   "execution_count": 37,
   "metadata": {},
   "outputs": [
    {
     "data": {
      "text/plain": [
       "<matplotlib.axes._subplots.AxesSubplot at 0xcf4e5b0d68>"
      ]
     },
     "execution_count": 37,
     "metadata": {},
     "output_type": "execute_result"
    },
    {
     "data": {
      "image/png": "[encoded data removed]",
      "text/plain": [
       "<Figure size 576x576 with 2 Axes>"
      ]
     },
     "metadata": {
      "needs_background": "light"
     },
     "output_type": "display_data"
    }
   ],
   "source": [
    "plt.figure(figsize = (8,8))\n",
    "sns.heatmap(cm,annot = True)"
   ]
  },
  {
   "cell_type": "code",
   "execution_count": 38,
   "metadata": {},
   "outputs": [],
   "source": [
    "accuracy = history.history['accuracy']\n",
    "loss = history.history['loss']"
   ]
  },
  {
   "cell_type": "code",
   "execution_count": 39,
   "metadata": {},
   "outputs": [
    {
     "name": "stdout",
     "output_type": "stream",
     "text": [
      "156/156 [==============================] - 0s 1ms/step\n",
      "test acc :0.8589743375778198\n"
     ]
    }
   ],
   "source": [
    "y_test = to_categorical(y_test,3)\n",
    "\n",
    "score = classifier.evaluate(X_test,y_test)\n",
    "print('test acc :{}'.format(score[1]))"
   ]
  },
  {
   "cell_type": "code",
   "execution_count": null,
   "metadata": {},
   "outputs": [],
   "source": [
    "\n"
   ]
  },
  {
   "cell_type": "code",
   "execution_count": null,
   "metadata": {},
   "outputs": [],
   "source": []
  },
  {
   "cell_type": "code",
   "execution_count": null,
   "metadata": {},
   "outputs": [],
   "source": []
  }
 ],
 "metadata": {
  "kernelspec": {
   "display_name": "Python 3",
   "language": "python",
   "name": "python3"
  },
  "language_info": {
   "codemirror_mode": {
    "name": "ipython",
    "version": 3
   },
   "file_extension": ".py",
   "mimetype": "text/x-python",
   "name": "python",
   "nbconvert_exporter": "python",
   "pygments_lexer": "ipython3",
   "version": "3.7.1"
  }
 },
 "nbformat": 4,
 "nbformat_minor": 2
}
