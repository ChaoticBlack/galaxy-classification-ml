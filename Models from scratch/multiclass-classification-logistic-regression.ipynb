{
 "cells": [
  {
   "cell_type": "markdown",
   "metadata": {},
   "source": [
    "# IMPORTING LIBRARIES"
   ]
  },
  {
   "cell_type": "code",
   "execution_count": 107,
   "metadata": {},
   "outputs": [],
   "source": [
    "import numpy as np\n",
    "import pandas as pd\n",
    "import matplotlib.pyplot as plt\n",
    "\n"
   ]
  },
  {
   "cell_type": "markdown",
   "metadata": {},
   "source": [
    "# IMPORTING DATA AND CONVERTING IT INTO DATAFRAME"
   ]
  },
  {
   "cell_type": "code",
   "execution_count": 108,
   "metadata": {},
   "outputs": [],
   "source": [
    "data= np.load('galaxy_catalogue.npy')\n",
    "df = pd.DataFrame(data)\n"
   ]
  },
  {
   "cell_type": "markdown",
   "metadata": {},
   "source": [
    "# Shuffeling dataframe for unbiasing data"
   ]
  },
  {
   "cell_type": "code",
   "execution_count": 109,
   "metadata": {},
   "outputs": [
    {
     "data": {
      "text/html": [
       "<div>\n",
       "<style scoped>\n",
       "    .dataframe tbody tr th:only-of-type {\n",
       "        vertical-align: middle;\n",
       "    }\n",
       "\n",
       "    .dataframe tbody tr th {\n",
       "        vertical-align: top;\n",
       "    }\n",
       "\n",
       "    .dataframe thead th {\n",
       "        text-align: right;\n",
       "    }\n",
       "</style>\n",
       "<table border=\"1\" class=\"dataframe\">\n",
       "  <thead>\n",
       "    <tr style=\"text-align: right;\">\n",
       "      <th></th>\n",
       "      <th>u-g</th>\n",
       "      <th>g-r</th>\n",
       "      <th>r-i</th>\n",
       "      <th>i-z</th>\n",
       "      <th>ecc</th>\n",
       "      <th>m4_u</th>\n",
       "      <th>m4_g</th>\n",
       "      <th>m4_r</th>\n",
       "      <th>m4_i</th>\n",
       "      <th>m4_z</th>\n",
       "      <th>petroR50_u</th>\n",
       "      <th>petroR50_r</th>\n",
       "      <th>petroR50_z</th>\n",
       "      <th>petroR90_u</th>\n",
       "      <th>petroR90_r</th>\n",
       "      <th>petroR90_z</th>\n",
       "      <th>class</th>\n",
       "    </tr>\n",
       "  </thead>\n",
       "  <tbody>\n",
       "    <tr>\n",
       "      <td>0</td>\n",
       "      <td>1.83027</td>\n",
       "      <td>0.84431</td>\n",
       "      <td>0.39433</td>\n",
       "      <td>0.30880</td>\n",
       "      <td>0.964706</td>\n",
       "      <td>2.475909</td>\n",
       "      <td>2.442293</td>\n",
       "      <td>2.442839</td>\n",
       "      <td>2.434965</td>\n",
       "      <td>2.419468</td>\n",
       "      <td>9.043689</td>\n",
       "      <td>5.467977</td>\n",
       "      <td>5.004704</td>\n",
       "      <td>22.523330</td>\n",
       "      <td>17.665140</td>\n",
       "      <td>17.140940</td>\n",
       "      <td>elliptical</td>\n",
       "    </tr>\n",
       "    <tr>\n",
       "      <td>1</td>\n",
       "      <td>2.00159</td>\n",
       "      <td>0.89582</td>\n",
       "      <td>0.47336</td>\n",
       "      <td>0.25935</td>\n",
       "      <td>0.853795</td>\n",
       "      <td>2.076495</td>\n",
       "      <td>2.455420</td>\n",
       "      <td>2.430792</td>\n",
       "      <td>2.462987</td>\n",
       "      <td>2.438677</td>\n",
       "      <td>3.971475</td>\n",
       "      <td>3.842477</td>\n",
       "      <td>3.323616</td>\n",
       "      <td>11.301030</td>\n",
       "      <td>9.285395</td>\n",
       "      <td>8.744328</td>\n",
       "      <td>merger</td>\n",
       "    </tr>\n",
       "    <tr>\n",
       "      <td>2</td>\n",
       "      <td>1.79945</td>\n",
       "      <td>0.79592</td>\n",
       "      <td>0.40726</td>\n",
       "      <td>0.27453</td>\n",
       "      <td>0.510135</td>\n",
       "      <td>2.415254</td>\n",
       "      <td>2.452152</td>\n",
       "      <td>2.443151</td>\n",
       "      <td>2.440272</td>\n",
       "      <td>2.383487</td>\n",
       "      <td>7.026027</td>\n",
       "      <td>5.447197</td>\n",
       "      <td>4.933511</td>\n",
       "      <td>21.875780</td>\n",
       "      <td>16.251430</td>\n",
       "      <td>15.299280</td>\n",
       "      <td>merger</td>\n",
       "    </tr>\n",
       "    <tr>\n",
       "      <td>3</td>\n",
       "      <td>1.92302</td>\n",
       "      <td>0.92581</td>\n",
       "      <td>0.40007</td>\n",
       "      <td>0.34945</td>\n",
       "      <td>0.775080</td>\n",
       "      <td>2.451854</td>\n",
       "      <td>2.376309</td>\n",
       "      <td>2.391045</td>\n",
       "      <td>2.414250</td>\n",
       "      <td>2.377393</td>\n",
       "      <td>3.273369</td>\n",
       "      <td>3.025038</td>\n",
       "      <td>2.891787</td>\n",
       "      <td>11.252560</td>\n",
       "      <td>9.868087</td>\n",
       "      <td>9.006919</td>\n",
       "      <td>elliptical</td>\n",
       "    </tr>\n",
       "    <tr>\n",
       "      <td>4</td>\n",
       "      <td>1.91042</td>\n",
       "      <td>0.87266</td>\n",
       "      <td>0.43484</td>\n",
       "      <td>0.29740</td>\n",
       "      <td>0.794391</td>\n",
       "      <td>2.343216</td>\n",
       "      <td>2.326988</td>\n",
       "      <td>2.362205</td>\n",
       "      <td>2.372770</td>\n",
       "      <td>2.385539</td>\n",
       "      <td>13.680320</td>\n",
       "      <td>4.188968</td>\n",
       "      <td>3.460898</td>\n",
       "      <td>27.653440</td>\n",
       "      <td>19.199850</td>\n",
       "      <td>16.082200</td>\n",
       "      <td>merger</td>\n",
       "    </tr>\n",
       "    <tr>\n",
       "      <td>...</td>\n",
       "      <td>...</td>\n",
       "      <td>...</td>\n",
       "      <td>...</td>\n",
       "      <td>...</td>\n",
       "      <td>...</td>\n",
       "      <td>...</td>\n",
       "      <td>...</td>\n",
       "      <td>...</td>\n",
       "      <td>...</td>\n",
       "      <td>...</td>\n",
       "      <td>...</td>\n",
       "      <td>...</td>\n",
       "      <td>...</td>\n",
       "      <td>...</td>\n",
       "      <td>...</td>\n",
       "      <td>...</td>\n",
       "      <td>...</td>\n",
       "    </tr>\n",
       "    <tr>\n",
       "      <td>775</td>\n",
       "      <td>1.33324</td>\n",
       "      <td>0.70361</td>\n",
       "      <td>0.36660</td>\n",
       "      <td>0.26710</td>\n",
       "      <td>0.666506</td>\n",
       "      <td>2.036027</td>\n",
       "      <td>2.106161</td>\n",
       "      <td>2.284671</td>\n",
       "      <td>2.339318</td>\n",
       "      <td>2.361116</td>\n",
       "      <td>4.880836</td>\n",
       "      <td>4.103659</td>\n",
       "      <td>3.748782</td>\n",
       "      <td>9.431236</td>\n",
       "      <td>8.418779</td>\n",
       "      <td>7.793340</td>\n",
       "      <td>spiral</td>\n",
       "    </tr>\n",
       "    <tr>\n",
       "      <td>776</td>\n",
       "      <td>1.92181</td>\n",
       "      <td>0.91974</td>\n",
       "      <td>0.41321</td>\n",
       "      <td>0.31200</td>\n",
       "      <td>0.725056</td>\n",
       "      <td>2.474488</td>\n",
       "      <td>2.440215</td>\n",
       "      <td>2.442940</td>\n",
       "      <td>2.441271</td>\n",
       "      <td>2.445905</td>\n",
       "      <td>4.279113</td>\n",
       "      <td>4.174338</td>\n",
       "      <td>4.066437</td>\n",
       "      <td>12.210550</td>\n",
       "      <td>13.208710</td>\n",
       "      <td>13.379900</td>\n",
       "      <td>elliptical</td>\n",
       "    </tr>\n",
       "    <tr>\n",
       "      <td>777</td>\n",
       "      <td>1.86894</td>\n",
       "      <td>0.89636</td>\n",
       "      <td>0.40368</td>\n",
       "      <td>0.26953</td>\n",
       "      <td>0.493673</td>\n",
       "      <td>2.409214</td>\n",
       "      <td>2.479733</td>\n",
       "      <td>2.467336</td>\n",
       "      <td>2.488909</td>\n",
       "      <td>2.481156</td>\n",
       "      <td>7.425199</td>\n",
       "      <td>4.275969</td>\n",
       "      <td>3.420454</td>\n",
       "      <td>16.354200</td>\n",
       "      <td>11.877800</td>\n",
       "      <td>9.277365</td>\n",
       "      <td>merger</td>\n",
       "    </tr>\n",
       "    <tr>\n",
       "      <td>778</td>\n",
       "      <td>1.92493</td>\n",
       "      <td>0.98640</td>\n",
       "      <td>0.41899</td>\n",
       "      <td>0.31943</td>\n",
       "      <td>0.778894</td>\n",
       "      <td>2.303315</td>\n",
       "      <td>2.373983</td>\n",
       "      <td>2.379314</td>\n",
       "      <td>2.396000</td>\n",
       "      <td>2.388731</td>\n",
       "      <td>5.046247</td>\n",
       "      <td>2.989523</td>\n",
       "      <td>2.694031</td>\n",
       "      <td>12.252950</td>\n",
       "      <td>9.094408</td>\n",
       "      <td>8.739716</td>\n",
       "      <td>elliptical</td>\n",
       "    </tr>\n",
       "    <tr>\n",
       "      <td>779</td>\n",
       "      <td>2.01632</td>\n",
       "      <td>1.08401</td>\n",
       "      <td>0.45867</td>\n",
       "      <td>0.36695</td>\n",
       "      <td>0.680618</td>\n",
       "      <td>2.212083</td>\n",
       "      <td>2.321948</td>\n",
       "      <td>2.315634</td>\n",
       "      <td>2.331727</td>\n",
       "      <td>2.352935</td>\n",
       "      <td>2.541592</td>\n",
       "      <td>2.301728</td>\n",
       "      <td>2.140932</td>\n",
       "      <td>7.038888</td>\n",
       "      <td>6.894742</td>\n",
       "      <td>6.662360</td>\n",
       "      <td>elliptical</td>\n",
       "    </tr>\n",
       "  </tbody>\n",
       "</table>\n",
       "<p>780 rows × 17 columns</p>\n",
       "</div>"
      ],
      "text/plain": [
       "         u-g      g-r      r-i      i-z       ecc      m4_u      m4_g  \\\n",
       "0    1.83027  0.84431  0.39433  0.30880  0.964706  2.475909  2.442293   \n",
       "1    2.00159  0.89582  0.47336  0.25935  0.853795  2.076495  2.455420   \n",
       "2    1.79945  0.79592  0.40726  0.27453  0.510135  2.415254  2.452152   \n",
       "3    1.92302  0.92581  0.40007  0.34945  0.775080  2.451854  2.376309   \n",
       "4    1.91042  0.87266  0.43484  0.29740  0.794391  2.343216  2.326988   \n",
       "..       ...      ...      ...      ...       ...       ...       ...   \n",
       "775  1.33324  0.70361  0.36660  0.26710  0.666506  2.036027  2.106161   \n",
       "776  1.92181  0.91974  0.41321  0.31200  0.725056  2.474488  2.440215   \n",
       "777  1.86894  0.89636  0.40368  0.26953  0.493673  2.409214  2.479733   \n",
       "778  1.92493  0.98640  0.41899  0.31943  0.778894  2.303315  2.373983   \n",
       "779  2.01632  1.08401  0.45867  0.36695  0.680618  2.212083  2.321948   \n",
       "\n",
       "         m4_r      m4_i      m4_z  petroR50_u  petroR50_r  petroR50_z  \\\n",
       "0    2.442839  2.434965  2.419468    9.043689    5.467977    5.004704   \n",
       "1    2.430792  2.462987  2.438677    3.971475    3.842477    3.323616   \n",
       "2    2.443151  2.440272  2.383487    7.026027    5.447197    4.933511   \n",
       "3    2.391045  2.414250  2.377393    3.273369    3.025038    2.891787   \n",
       "4    2.362205  2.372770  2.385539   13.680320    4.188968    3.460898   \n",
       "..        ...       ...       ...         ...         ...         ...   \n",
       "775  2.284671  2.339318  2.361116    4.880836    4.103659    3.748782   \n",
       "776  2.442940  2.441271  2.445905    4.279113    4.174338    4.066437   \n",
       "777  2.467336  2.488909  2.481156    7.425199    4.275969    3.420454   \n",
       "778  2.379314  2.396000  2.388731    5.046247    2.989523    2.694031   \n",
       "779  2.315634  2.331727  2.352935    2.541592    2.301728    2.140932   \n",
       "\n",
       "     petroR90_u  petroR90_r  petroR90_z       class  \n",
       "0     22.523330   17.665140   17.140940  elliptical  \n",
       "1     11.301030    9.285395    8.744328      merger  \n",
       "2     21.875780   16.251430   15.299280      merger  \n",
       "3     11.252560    9.868087    9.006919  elliptical  \n",
       "4     27.653440   19.199850   16.082200      merger  \n",
       "..          ...         ...         ...         ...  \n",
       "775    9.431236    8.418779    7.793340      spiral  \n",
       "776   12.210550   13.208710   13.379900  elliptical  \n",
       "777   16.354200   11.877800    9.277365      merger  \n",
       "778   12.252950    9.094408    8.739716  elliptical  \n",
       "779    7.038888    6.894742    6.662360  elliptical  \n",
       "\n",
       "[780 rows x 17 columns]"
      ]
     },
     "execution_count": 109,
     "metadata": {},
     "output_type": "execute_result"
    }
   ],
   "source": [
    "\n",
    "from sklearn.utils import shuffle\n",
    "df = shuffle(df)\n",
    "df.reset_index(inplace=False, drop=True)\n"
   ]
  },
  {
   "cell_type": "markdown",
   "metadata": {},
   "source": [
    "# PREPARING Y FOR INDIVIDUAL CLASSIFICATION"
   ]
  },
  {
   "cell_type": "code",
   "execution_count": 110,
   "metadata": {},
   "outputs": [],
   "source": [
    "X = df.iloc[:,:10]\n",
    "\n",
    "y=pd.DataFrame(df.iloc[:,-1])\n",
    "y.shape\n",
    "y_1 = np.where(y==\"merger\",1,0)    \n",
    "\n",
    "y_1.reshape((780,1))\n",
    "\n",
    "y_2 = np.where(y==\"elliptical\",1,0)\n",
    "\n",
    "y_3 = np.where(y==\"spiral\",1,0)\n"
   ]
  },
  {
   "cell_type": "markdown",
   "metadata": {},
   "source": [
    "# ADDITIONAL FEATURES"
   ]
  },
  {
   "cell_type": "code",
   "execution_count": 111,
   "metadata": {},
   "outputs": [],
   "source": [
    "X['conc_u']=(df['petroR50_u'])/(df['petroR90_u'])\n",
    "X['conc_r']=df['petroR50_r']/df['petroR90_r']\n",
    "X['conc_z']= df['petroR50_z']/df['petroR90_z']"
   ]
  },
  {
   "cell_type": "markdown",
   "metadata": {},
   "source": [
    "# CREATING Std SCALAR VECTOR "
   ]
  },
  {
   "cell_type": "code",
   "execution_count": 112,
   "metadata": {},
   "outputs": [],
   "source": [
    "from sklearn.preprocessing import StandardScaler\n",
    "sc = StandardScaler()\n",
    "X = sc.fit_transform(X)"
   ]
  },
  {
   "cell_type": "markdown",
   "metadata": {},
   "source": [
    "# SPLITTING TEST AND TRAIN DATASET"
   ]
  },
  {
   "cell_type": "code",
   "execution_count": 113,
   "metadata": {},
   "outputs": [],
   "source": [
    "m = 600\n",
    "f = 13\n",
    "X_train = X[:m,:f]\n",
    "X_train = np.c_[np.ones(len(X_train),dtype='int64'),X_train]\n",
    "y_train_1 = y_1[:m]\n",
    "y_train_2 = y_2[:m]\n",
    "y_train_3 = y_3[:m]\n",
    "X_test = X[m:,:f]\n",
    "X_test = np.c_[np.ones(len(X_test),dtype='int64'),X_test]\n",
    "y_test = y[m:]\n"
   ]
  },
  {
   "cell_type": "markdown",
   "metadata": {},
   "source": [
    "# ENCODING Y BEACUSE INITIALLY IT WAS STRING"
   ]
  },
  {
   "cell_type": "code",
   "execution_count": 114,
   "metadata": {},
   "outputs": [],
   "source": [
    "from sklearn.preprocessing import OrdinalEncoder\n",
    "ordinal_encoder = OrdinalEncoder()\n",
    "y_encoded = ordinal_encoder.fit_transform(y)\n",
    "y_encoded = y_encoded[:600,0]\n",
    "\n",
    "y_encoded_test = y_encoded[600:]\n",
    "y_encoded = y_encoded.reshape(600,1)\n",
    "y_encoded_test = ordinal_encoder.fit_transform(y_test)"
   ]
  },
  {
   "cell_type": "markdown",
   "metadata": {},
   "source": [
    "# INITIATE COFFICIENT"
   ]
  },
  {
   "cell_type": "code",
   "execution_count": 115,
   "metadata": {},
   "outputs": [],
   "source": [
    "# Initial Coefficients\n",
    "theta = np.zeros((14,1))\n",
    "alpha = 0.005\n",
    "loops = 2000\n"
   ]
  },
  {
   "cell_type": "markdown",
   "metadata": {},
   "source": [
    "# DEFINITION OF SIGMOID FUNCTION"
   ]
  },
  {
   "cell_type": "code",
   "execution_count": 116,
   "metadata": {},
   "outputs": [],
   "source": [
    "def sigmoid(theta, x):\n",
    "    z = np.dot(x,theta)\n",
    "    return(1/(1+np.exp(-z)))"
   ]
  },
  {
   "cell_type": "markdown",
   "metadata": {},
   "source": [
    "# DEFINITION OF COST FUNCTION"
   ]
  },
  {
   "cell_type": "code",
   "execution_count": 117,
   "metadata": {},
   "outputs": [],
   "source": [
    "h= sigmoid(theta,X_train)"
   ]
  },
  {
   "cell_type": "code",
   "execution_count": 118,
   "metadata": {},
   "outputs": [],
   "source": [
    "def cost(h,y):\n",
    "    m=len(y)\n",
    "    return ((1/m)*np.sum((-y.T*np.log(h)-(1-y).T*np.log(1-h)),axis = 1, keepdims = True))\n"
   ]
  },
  {
   "cell_type": "markdown",
   "metadata": {},
   "source": [
    "# GRADIENT DESCENT"
   ]
  },
  {
   "cell_type": "code",
   "execution_count": 119,
   "metadata": {},
   "outputs": [],
   "source": [
    "c= cost(h,y_train_1)"
   ]
  },
  {
   "cell_type": "code",
   "execution_count": 120,
   "metadata": {},
   "outputs": [],
   "source": [
    "#import numpy.matlib\n",
    "def gradient_descent(x,y,theta,alpha):\n",
    "    m = len(y)\n",
    "    #for i in range(0,2000):\n",
    "    g= sigmoid(theta,x)\n",
    "        #g1= g-y\n",
    "        #G=np.matlib.repmat(g-y,1,14)\n",
    "        #G.shape\n",
    "    theta = theta - (alpha/m)*(np.dot(x.T, (g-y)))\n",
    "    return theta\n"
   ]
  },
  {
   "cell_type": "markdown",
   "metadata": {},
   "source": [
    "# FITTING GRADIENT DESCENT"
   ]
  },
  {
   "cell_type": "code",
   "execution_count": 121,
   "metadata": {},
   "outputs": [],
   "source": [
    "def fit(x,y,loops,alpha):\n",
    "    theta = np.zeros((14,1))\n",
    "    for loop in range(loops):\n",
    "        theta=gradient_descent(x,y,theta,alpha)\n",
    "    return theta"
   ]
  },
  {
   "cell_type": "markdown",
   "metadata": {},
   "source": [
    "# COMPUTATION OF THETA_MIN FOR INDIVIDUAL CLASSES AND CREATION OF ALL_THETA WHICH CONTAINS THETA_MIN FOR ALL THE LABELS"
   ]
  },
  {
   "cell_type": "code",
   "execution_count": 122,
   "metadata": {},
   "outputs": [],
   "source": [
    "theta_min_1 = fit(X_train,y_train_1,loops,alpha)\n",
    "theta_min_2 = fit(X_train,y_train_2,loops,alpha)\n",
    "theta_min_3 = fit(X_train,y_train_3,loops,alpha)\n",
    "\n",
    "all_theta = np.zeros((3, 14))\n",
    "for i in range(0,14):\n",
    "    all_theta[0,i] = theta_min_2.T[:,i]\n",
    "    all_theta[1,i] = theta_min_1.T[:,i]\n",
    "    all_theta[2,i] = theta_min_3.T[:,i]\n"
   ]
  },
  {
   "cell_type": "code",
   "execution_count": 123,
   "metadata": {},
   "outputs": [],
   "source": [
    "h_theta=sigmoid(all_theta.T,X_train)\n",
    "h_theta.shape\n",
    "\n",
    "p = np.amax(h_theta, axis=1,keepdims = True)  #Function amax used to get the maximum value of probability row wise\n",
    "result = np.where(h_theta == p) #getting the index of maximum values as probability i.e predicted y.\n",
    "\n",
    "probability = result[1]\n",
    "probability = probability.reshape(600,1)\n",
    "\n",
    "\n"
   ]
  },
  {
   "cell_type": "code",
   "execution_count": 124,
   "metadata": {},
   "outputs": [],
   "source": [
    "h_theta_test = sigmoid(all_theta.T,X_test)\n",
    "h_theta_test.shape\n",
    "p = np.amax(h_theta_test, axis=1,keepdims = True)\n",
    "result_test = np.where(h_theta_test == p)\n",
    "\n",
    "probability_test = result_test[1]\n",
    "probability_test = probability_test.reshape(180,1)\n",
    "\n"
   ]
  },
  {
   "cell_type": "code",
   "execution_count": 125,
   "metadata": {},
   "outputs": [
    {
     "name": "stdout",
     "output_type": "stream",
     "text": [
      "Accuracy train :  81.16666666666667\n",
      "Accuracy test :  77.22222222222223\n"
     ]
    }
   ],
   "source": [
    "#import matplotlib.pyplot as plt\n",
    "#plt.hist(Cost,bins=50)\n",
    "predict = (probability == y_encoded).reshape((600,1))  #checks if our probability is eual to the value of y for given data\n",
    "pe=predict.astype(int) #converting into int (binary values)\n",
    "predict_test = (probability_test == y_encoded_test).reshape((180,1)) \n",
    "pe_test = predict_test.astype(int)\n",
    "#print(pe_test)\n",
    "print(\"Accuracy train : \",np.mean(pe) * 100)        #mean * 100 of pe will be accuracy\n",
    "print(\"Accuracy test : \",np.mean(pe_test)*100)"
   ]
  },
  {
   "cell_type": "code",
   "execution_count": null,
   "metadata": {},
   "outputs": [],
   "source": []
  },
  {
   "cell_type": "code",
   "execution_count": null,
   "metadata": {},
   "outputs": [],
   "source": []
  }
 ],
 "metadata": {
  "kernelspec": {
   "display_name": "Python 3",
   "language": "python",
   "name": "python3"
  },
  "language_info": {
   "codemirror_mode": {
    "name": "ipython",
    "version": 3
   },
   "file_extension": ".py",
   "mimetype": "text/x-python",
   "name": "python",
   "nbconvert_exporter": "python",
   "pygments_lexer": "ipython3",
   "version": "3.7.4"
  }
 },
 "nbformat": 4,
 "nbformat_minor": 4
}
