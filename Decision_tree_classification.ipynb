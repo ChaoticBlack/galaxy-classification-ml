{
 "cells": [
  {
   "cell_type": "code",
   "execution_count": 9,
   "metadata": {},
   "outputs": [],
   "source": [
    "import numpy as np\n",
    "from sklearn.tree import DecisionTreeClassifier\n",
    #"import pydotplus as pydotplus\n",
    #"from sklearn.tree import export_graphviz"
   ]
  },
  {
   "cell_type": "code",
   "execution_count": 3,
   "metadata": {},
   "outputs": [],
   "source": [
    "def splitdata_train_test(data, fraction_training):\n",
    "  np.random.shuffle(data)\n",
    "  split_index = int(fraction_training*len(data))\n",
    "  return data[:split_index],data[split_index:]"
   ]
  },
  {
   "cell_type": "code",
   "execution_count": 4,
   "metadata": {},
   "outputs": [],
   "source": [
    "def generate_features_targets(data):\n",
    "  targets = data['class']\n",
    "  features = np.empty(shape=(len(data), 13))\n",
    "  features[:, 0] = data['u-g']\n",
    "  features[:, 1] = data['g-r']\n",
    "  features[:, 2] = data['r-i']\n",
    "  features[:, 3] = data['i-z']\n",
    "  features[:, 4] = data['ecc']\n",
    "  features[:, 5] = data['m4_u']\n",
    "  features[:, 6] = data['m4_g']\n",
    "  features[:, 7] = data['m4_r']\n",
    "  features[:, 8] = data['m4_i']\n",
    "  features[:, 9] = data['m4_z']\n",
    "  features[:, 10] = data['petroR50_u']/data['petroR90_u']\n",
    "  features[:, 11] = data['petroR50_r']/data['petroR90_r']\n",
    "  features[:, 12] = data['petroR50_z']/data['petroR90_z']\n",
    "  return features, targets"
   ]
  },
  {
   "cell_type": "code",
   "execution_count": 5,
   "metadata": {},
   "outputs": [],
   "source": [
    "def dtc_predict_actual(data):\n",
    "  training_set,testing_set=splitdata_train_test(data,0.7)\n",
    "  train_features,train_targets=generate_features_targets(training_set)\n",
    "  test_features,test_targets=generate_features_targets(testing_set)\n",
    "  dtc= DecisionTreeClassifier()\n",
    "  dtc.fit(train_features,train_targets)\n",
    "  predictions= dtc.predict(test_features)\n",
    "  return predictions,test_targets"
   ]
  },
  {
   "cell_type": "code",
   "execution_count": 6,
   "metadata": {},
   "outputs": [
    {
     "name": "stdout",
     "output_type": "stream",
     "text": [
      "Some initial results...\n",
      "   predicted,  actual\n",
      "0. spiral, spiral\n",
      "1. elliptical, elliptical\n",
      "2. spiral, spiral\n",
      "3. merger, spiral\n",
      "4. elliptical, elliptical\n",
      "5. spiral, spiral\n",
      "6. spiral, spiral\n",
      "7. elliptical, elliptical\n",
      "8. elliptical, elliptical\n",
      "9. merger, merger\n"
     ]
    }
   ],
   "source": [
    "if __name__ == '__main__':\n",
    "  data = np.load('galaxy_catalogue.npy')   \n",
    "  predicted_class, actual_class = dtc_predict_actual(data)\n",
    "\n",
    "  # Print some of the initial results\n",
    "  print(\"Some initial results...\\n   predicted,  actual\")\n",
    "  for i in range(10):\n",
    "    print(\"{}. {}, {}\".format(i, predicted_class[i], actual_class[i]))\n",
    " "
   ]
  },
  {
   "cell_type": "code",
   "execution_count": null,
   "metadata": {},
   "outputs": [],
   "source": []
  }
 ],
 "metadata": {
  "kernelspec": {
   "display_name": "Python 3",
   "language": "python",
   "name": "python3"
  },
  "language_info": {
   "codemirror_mode": {
    "name": "ipython",
    "version": 3
   },
   "file_extension": ".py",
   "mimetype": "text/x-python",
   "name": "python",
   "nbconvert_exporter": "python",
   "pygments_lexer": "ipython3",
   "version": "3.7.7"
  }
 },
 "nbformat": 4,
 "nbformat_minor": 4
}
