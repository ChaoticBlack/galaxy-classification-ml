{
 "cells": [
  {
   "cell_type": "code",
   "execution_count": 1,
   "metadata": {},
   "outputs": [],
   "source": [
    "import numpy as np\n",
    "import pandas as pd\n",
    "from sklearn.preprocessing import StandardScaler\n",
    "from sklearn.neural_network import MLPClassifier\n",
    "from matplotlib import pyplot as plt\n",
    "from support_functions import plot_confusion_matrix, generate_features_targets\n",
    "from sklearn.metrics import classification_report,confusion_matrix\n",
    "\n",
    "#data = np.load('galaxy_catalogue.npy')"
   ]
  },
  {
   "cell_type": "code",
   "execution_count": 10,
   "metadata": {},
   "outputs": [],
   "source": [
    "def dtc_predict_actual(data):\n",
    "  # split the data into training and testing sets using a training fraction of 0.7\n",
    "  training_set,testing_set=splitdata_train_test(data,0.7)\n",
    "  train_features,train_targets=generate_features_targets(training_set)\n",
    "  test_features,test_targets=generate_features_targets(testing_set)\n",
    "  scaler = StandardScaler()\n",
    "  scaler.fit(train_features)\n",
    "  train_features = scaler.transform(train_features)\n",
    "  test_features = scaler.transform(test_features)\n",
    "  mlp = MLPClassifier()\n",
    "  mlp.fit(train_features,train_targets)\n",
    "  predictions = mlp.predict(test_features)\n",
    "  return predictions,test_targets"
   ]
  },
  {
   "cell_type": "code",
   "execution_count": 11,
   "metadata": {},
   "outputs": [],
   "source": [
    "def splitdata_train_test(data, fraction_training):\n",
    "  np.random.shuffle(data)\n",
    "  split_index = int(fraction_training*len(data))\n",
    "  return data[:split_index],data[split_index:]"
   ]
  },
  {
   "cell_type": "code",
   "execution_count": 12,
   "metadata": {},
   "outputs": [],
   "source": [
    "def generate_features_targets(data):\n",
    "  targets = data['class']\n",
    "  features = np.empty(shape=(len(data), 13))\n",
    "  features[:, 0] = data['u-g']\n",
    "  features[:, 1] = data['g-r']\n",
    "  features[:, 2] = data['r-i']\n",
    "  features[:, 3] = data['i-z']\n",
    "  features[:, 4] = data['ecc']\n",
    "  features[:, 5] = data['m4_u']\n",
    "  features[:, 6] = data['m4_g']\n",
    "  features[:, 7] = data['m4_r']\n",
    "  features[:, 8] = data['m4_i']\n",
    "  features[:, 9] = data['m4_z']\n",
    "  # concentration in u filter\n",
    "  features[:, 10] = data['petroR50_u']/data['petroR90_u']\n",
    "  # concentration in r filter\n",
    "  features[:, 11] = data['petroR50_r']/data['petroR90_r']\n",
    "  # concentration in z filter\n",
    "  features[:, 12] = data['petroR50_z']/data['petroR90_z']\n",
    "  return features, targets"
   ]
  },
  {
   "cell_type": "code",
   "execution_count": 17,
   "metadata": {},
   "outputs": [
    {
     "name": "stderr",
     "output_type": "stream",
     "text": [
      "C:\\Users\\User\\anaconda3\\lib\\site-packages\\sklearn\\neural_network\\_multilayer_perceptron.py:571: ConvergenceWarning: Stochastic Optimizer: Maximum iterations (200) reached and the optimization hasn't converged yet.\n",
      "  % self.max_iter, ConvergenceWarning)\n"
     ]
    },
    {
     "name": "stdout",
     "output_type": "stream",
     "text": [
      "[[71 14  1]\n",
      " [ 2 58  5]\n",
      " [ 0  7 76]]\n",
      "Some initial results...\n",
      "   predicted,  actual\n",
      "0. spiral, spiral\n",
      "1. merger, merger\n",
      "2. spiral, spiral\n",
      "3. elliptical, elliptical\n",
      "4. merger, merger\n",
      "5. merger, merger\n",
      "6. elliptical, elliptical\n",
      "7. elliptical, elliptical\n",
      "8. spiral, spiral\n",
      "9. elliptical, elliptical\n",
      "234\n",
      "234\n",
      "accuracy =  0.8760683760683761\n",
      "Confusion matrix, without normalization\n",
      "[[58 14  7]\n",
      " [ 2 71  0]\n",
      " [ 5  1 76]]\n"
     ]
    },
    {
     "data": {
      "image/png": "[encoded data removed]",
      "text/plain": [
       "<Figure size 432x288 with 2 Axes>"
      ]
     },
     "metadata": {
      "needs_background": "light"
     },
     "output_type": "display_data"
    }
   ],
   "source": [
    "if __name__ == '__main__':\n",
    "  data = np.load('galaxy_catalogue.npy')\n",
    "    \n",
    "  predicted_class, actual_class = dtc_predict_actual(data)\n",
    "  print(confusion_matrix(predicted_class,actual_class))\n",
    "  print(\"Some initial results...\\n   predicted,  actual\")\n",
    "  for i in range(10):\n",
    "    print(\"{}. {}, {}\".format(i, predicted_class[i], actual_class[i]))\n",
    "  print(len(predicted_class))\n",
    "  print(len(actual_class))\n",
    "  accuracy= sum(predicted_class==actual_class)/len(actual_class)\n",
    "  print(\"accuracy = \",accuracy)\n",
    "    \n",
    "\n",
    "  class_labels = list(set(actual_class))\n",
    "  model_cm = confusion_matrix(y_true=actual_class, y_pred=predicted_class, labels=class_labels)    \n",
    "  plt.figure()\n",
    "  plot_confusion_matrix(model_cm, classes=class_labels, normalize=False)\n",
    "  plt.show()"
   ]
  },
  {
   "cell_type": "code",
   "execution_count": null,
   "metadata": {},
   "outputs": [],
   "source": []
  }
 ],
 "metadata": {
  "kernelspec": {
   "display_name": "Python 3",
   "language": "python",
   "name": "python3"
  },
  "language_info": {
   "codemirror_mode": {
    "name": "ipython",
    "version": 3
   },
   "file_extension": ".py",
   "mimetype": "text/x-python",
   "name": "python",
   "nbconvert_exporter": "python",
   "pygments_lexer": "ipython3",
   "version": "3.7.6"
  }
 },
 "nbformat": 4,
 "nbformat_minor": 4
}
