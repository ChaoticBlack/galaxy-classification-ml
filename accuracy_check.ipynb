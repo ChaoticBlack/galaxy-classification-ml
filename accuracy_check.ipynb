{
 "cells": [
  {
   "cell_type": "code",
   "execution_count": 18,
   "metadata": {},
   "outputs": [],
   "source": [
    "import numpy as np\n",
    "import matplotlib.pyplot as plt\n",
    "from sklearn.metrics import confusion_matrix\n",
    "from sklearn.model_selection import cross_val_predict\n",
    "from sklearn.tree import DecisionTreeClassifier\n",
    "#from support_functions import plot_confusion_matrix, generate_features_targets\n",
    "from sklearn.metrics import confusion_matrix\n",
    "import seaborn as sn"
   ]
  },
  {
   "cell_type": "code",
   "execution_count": 15,
   "metadata": {},
   "outputs": [],
   "source": [
    "def calculate_accuracy(predicted, actual):\n",
    "  return sum(predicted==actual)/len(actual)"
   ]
  },
  {
   "cell_type": "code",
   "execution_count": 16,
   "metadata": {},
   "outputs": [],
   "source": [
    "def generate_features_targets(data):\n",
    "  targets = data['class']\n",
    "  features = np.empty(shape=(len(data), 13))\n",
    "  features[:, 0] = data['u-g']\n",
    "  features[:, 1] = data['g-r']\n",
    "  features[:, 2] = data['r-i']\n",
    "  features[:, 3] = data['i-z']\n",
    "  features[:, 4] = data['ecc']\n",
    "  features[:, 5] = data['m4_u']\n",
    "  features[:, 6] = data['m4_g']\n",
    "  features[:, 7] = data['m4_r']\n",
    "  features[:, 8] = data['m4_i']\n",
    "  features[:, 9] = data['m4_z']\n",
    "  features[:, 10] = data['petroR50_u']/data['petroR90_u']\n",
    "  features[:, 11] = data['petroR50_r']/data['petroR90_r']\n",
    "  features[:, 12] = data['petroR50_z']/data['petroR90_z']\n",
    "\n",
    "  return features, targets"
   ]
  },
  {
   "cell_type": "code",
   "execution_count": 17,
   "metadata": {},
   "outputs": [
    {
     "name": "stdout",
     "output_type": "stream",
     "text": [
      "Our accuracy score: 0.791025641025641\n",
      "[[201  54   5]\n",
      " [ 55 183  22]\n",
      " [  5  22 233]]\n"
     ]
    },
    {
     "data": {
      "image/png": "[encoded data removed]",
      "text/plain": [
       "<Figure size 432x288 with 2 Axes>"
      ]
     },
     "metadata": {
      "needs_background": "light"
     },
     "output_type": "display_data"
    }
   ],
   "source": [
    "if __name__ == \"__main__\":\n",
    "  data = np.load('galaxy_catalogue.npy')\n",
    "\n",
    "  # split the data\n",
    "  features, targets = generate_features_targets(data)\n",
    "\n",
    "  # train the model to get predicted and actual classes\n",
    "  dtc = DecisionTreeClassifier()\n",
    "  predicted = cross_val_predict(dtc, features, targets, cv=10)\n",
    "\n",
    "  # calculate the model score using your function\n",
    "  model_score = calculate_accuracy(predicted, targets)\n",
    "  print(\"Our accuracy score:\", model_score)\n",
    "\n",
    "  # calculate the models confusion matrix using sklearns confusion_matrix function\n",
    "  class_labels = list(set(targets))\n",
    "  model_cm = confusion_matrix(y_true=targets, y_pred=predicted, labels=class_labels)\n",
    "  print(model_cm)  \n",
    "  #plt.matshow(model_cm)\n",
    "  sn.heatmap(model_cm,annot=True, annot_kws={\"size\": 16})\n",
    "  # Plot the confusion matrix using the provided functions.\n",
    "  #plt.figure()\n",
    "  #plot_confusion_matrix(model_cm, classes=class_labels, normalize=False)\n",
    "  #plt.show()"
   ]
  },
  {
   "cell_type": "code",
   "execution_count": null,
   "metadata": {},
   "outputs": [],
   "source": []
  }
 ],
 "metadata": {
  "kernelspec": {
   "display_name": "Python 3",
   "language": "python",
   "name": "python3"
  },
  "language_info": {
   "codemirror_mode": {
    "name": "ipython",
    "version": 3
   },
   "file_extension": ".py",
   "mimetype": "text/x-python",
   "name": "python",
   "nbconvert_exporter": "python",
   "pygments_lexer": "ipython3",
   "version": "3.7.7"
  }
 },
 "nbformat": 4,
 "nbformat_minor": 4
}
